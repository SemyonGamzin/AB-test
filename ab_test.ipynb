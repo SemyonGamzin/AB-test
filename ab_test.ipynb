{
  "cells": [
    {
      "cell_type": "code",
      "execution_count": 4,
      "id": "f8fc135b",
      "metadata": {
        "execution": {
          "iopub.execute_input": "2024-06-24T20:40:18.076865Z",
          "iopub.status.busy": "2024-06-24T20:40:18.075712Z",
          "iopub.status.idle": "2024-06-24T20:40:19.234894Z",
          "shell.execute_reply": "2024-06-24T20:40:19.233523Z"
        },
        "papermill": {
          "duration": 1.182429,
          "end_time": "2024-06-24T20:40:19.237903",
          "exception": false,
          "start_time": "2024-06-24T20:40:18.055474",
          "status": "completed"
        },
        "tags": [],
        "id": "f8fc135b"
      },
      "outputs": [],
      "source": [
        "import numpy as np\n",
        "import pandas as pd\n",
        "from scipy.stats import mannwhitneyu\n",
        "from scipy.stats import ttest_ind\n",
        "from scipy.stats import norm\n",
        "import matplotlib.pyplot as plt\n",
        "import seaborn as sns\n",
        "from tqdm.auto import tqdm\n",
        "import seaborn as sns\n",
        "from scipy.stats import pearsonr\n",
        "from scipy.stats import shapiro"
      ]
    },
    {
      "cell_type": "code",
      "execution_count": 5,
      "id": "de3dc0ae",
      "metadata": {
        "execution": {
          "iopub.execute_input": "2024-06-24T20:40:19.278776Z",
          "iopub.status.busy": "2024-06-24T20:40:19.278348Z",
          "iopub.status.idle": "2024-06-24T20:40:19.297504Z",
          "shell.execute_reply": "2024-06-24T20:40:19.296312Z"
        },
        "papermill": {
          "duration": 0.042353,
          "end_time": "2024-06-24T20:40:19.300254",
          "exception": false,
          "start_time": "2024-06-24T20:40:19.257901",
          "status": "completed"
        },
        "tags": [],
        "id": "de3dc0ae"
      },
      "outputs": [],
      "source": [
        "path = 'AB_Test_Results.csv'\n",
        "df = pd.read_csv(path)"
      ]
    },
    {
      "cell_type": "markdown",
      "id": "7ec408b4",
      "metadata": {
        "papermill": {
          "duration": 0.018095,
          "end_time": "2024-06-24T20:40:19.336775",
          "exception": false,
          "start_time": "2024-06-24T20:40:19.318680",
          "status": "completed"
        },
        "tags": [],
        "id": "7ec408b4"
      },
      "source": [
        "Сделаем первоначальный анализ данных:"
      ]
    },
    {
      "cell_type": "code",
      "execution_count": 6,
      "id": "1e97ea01",
      "metadata": {
        "execution": {
          "iopub.execute_input": "2024-06-24T20:40:19.377152Z",
          "iopub.status.busy": "2024-06-24T20:40:19.376734Z",
          "iopub.status.idle": "2024-06-24T20:40:19.398376Z",
          "shell.execute_reply": "2024-06-24T20:40:19.397147Z"
        },
        "papermill": {
          "duration": 0.0457,
          "end_time": "2024-06-24T20:40:19.401104",
          "exception": false,
          "start_time": "2024-06-24T20:40:19.355404",
          "status": "completed"
        },
        "tags": [],
        "colab": {
          "base_uri": "https://localhost:8080/",
          "height": 206
        },
        "id": "1e97ea01",
        "outputId": "e20fe01d-1410-44ca-820a-1164fe04f925"
      },
      "outputs": [
        {
          "output_type": "execute_result",
          "data": {
            "text/plain": [
              "   USER_ID VARIANT_NAME  REVENUE\n",
              "0      737      variant      0.0\n",
              "1     2423      control      0.0\n",
              "2     9411      control      0.0\n",
              "3     7311      control      0.0\n",
              "4     6174      variant      0.0"
            ],
            "text/html": [
              "\n",
              "  <div id=\"df-a2c10818-613e-46fe-882d-f8038e1b31cd\" class=\"colab-df-container\">\n",
              "    <div>\n",
              "<style scoped>\n",
              "    .dataframe tbody tr th:only-of-type {\n",
              "        vertical-align: middle;\n",
              "    }\n",
              "\n",
              "    .dataframe tbody tr th {\n",
              "        vertical-align: top;\n",
              "    }\n",
              "\n",
              "    .dataframe thead th {\n",
              "        text-align: right;\n",
              "    }\n",
              "</style>\n",
              "<table border=\"1\" class=\"dataframe\">\n",
              "  <thead>\n",
              "    <tr style=\"text-align: right;\">\n",
              "      <th></th>\n",
              "      <th>USER_ID</th>\n",
              "      <th>VARIANT_NAME</th>\n",
              "      <th>REVENUE</th>\n",
              "    </tr>\n",
              "  </thead>\n",
              "  <tbody>\n",
              "    <tr>\n",
              "      <th>0</th>\n",
              "      <td>737</td>\n",
              "      <td>variant</td>\n",
              "      <td>0.0</td>\n",
              "    </tr>\n",
              "    <tr>\n",
              "      <th>1</th>\n",
              "      <td>2423</td>\n",
              "      <td>control</td>\n",
              "      <td>0.0</td>\n",
              "    </tr>\n",
              "    <tr>\n",
              "      <th>2</th>\n",
              "      <td>9411</td>\n",
              "      <td>control</td>\n",
              "      <td>0.0</td>\n",
              "    </tr>\n",
              "    <tr>\n",
              "      <th>3</th>\n",
              "      <td>7311</td>\n",
              "      <td>control</td>\n",
              "      <td>0.0</td>\n",
              "    </tr>\n",
              "    <tr>\n",
              "      <th>4</th>\n",
              "      <td>6174</td>\n",
              "      <td>variant</td>\n",
              "      <td>0.0</td>\n",
              "    </tr>\n",
              "  </tbody>\n",
              "</table>\n",
              "</div>\n",
              "    <div class=\"colab-df-buttons\">\n",
              "\n",
              "  <div class=\"colab-df-container\">\n",
              "    <button class=\"colab-df-convert\" onclick=\"convertToInteractive('df-a2c10818-613e-46fe-882d-f8038e1b31cd')\"\n",
              "            title=\"Convert this dataframe to an interactive table.\"\n",
              "            style=\"display:none;\">\n",
              "\n",
              "  <svg xmlns=\"http://www.w3.org/2000/svg\" height=\"24px\" viewBox=\"0 -960 960 960\">\n",
              "    <path d=\"M120-120v-720h720v720H120Zm60-500h600v-160H180v160Zm220 220h160v-160H400v160Zm0 220h160v-160H400v160ZM180-400h160v-160H180v160Zm440 0h160v-160H620v160ZM180-180h160v-160H180v160Zm440 0h160v-160H620v160Z\"/>\n",
              "  </svg>\n",
              "    </button>\n",
              "\n",
              "  <style>\n",
              "    .colab-df-container {\n",
              "      display:flex;\n",
              "      gap: 12px;\n",
              "    }\n",
              "\n",
              "    .colab-df-convert {\n",
              "      background-color: #E8F0FE;\n",
              "      border: none;\n",
              "      border-radius: 50%;\n",
              "      cursor: pointer;\n",
              "      display: none;\n",
              "      fill: #1967D2;\n",
              "      height: 32px;\n",
              "      padding: 0 0 0 0;\n",
              "      width: 32px;\n",
              "    }\n",
              "\n",
              "    .colab-df-convert:hover {\n",
              "      background-color: #E2EBFA;\n",
              "      box-shadow: 0px 1px 2px rgba(60, 64, 67, 0.3), 0px 1px 3px 1px rgba(60, 64, 67, 0.15);\n",
              "      fill: #174EA6;\n",
              "    }\n",
              "\n",
              "    .colab-df-buttons div {\n",
              "      margin-bottom: 4px;\n",
              "    }\n",
              "\n",
              "    [theme=dark] .colab-df-convert {\n",
              "      background-color: #3B4455;\n",
              "      fill: #D2E3FC;\n",
              "    }\n",
              "\n",
              "    [theme=dark] .colab-df-convert:hover {\n",
              "      background-color: #434B5C;\n",
              "      box-shadow: 0px 1px 3px 1px rgba(0, 0, 0, 0.15);\n",
              "      filter: drop-shadow(0px 1px 2px rgba(0, 0, 0, 0.3));\n",
              "      fill: #FFFFFF;\n",
              "    }\n",
              "  </style>\n",
              "\n",
              "    <script>\n",
              "      const buttonEl =\n",
              "        document.querySelector('#df-a2c10818-613e-46fe-882d-f8038e1b31cd button.colab-df-convert');\n",
              "      buttonEl.style.display =\n",
              "        google.colab.kernel.accessAllowed ? 'block' : 'none';\n",
              "\n",
              "      async function convertToInteractive(key) {\n",
              "        const element = document.querySelector('#df-a2c10818-613e-46fe-882d-f8038e1b31cd');\n",
              "        const dataTable =\n",
              "          await google.colab.kernel.invokeFunction('convertToInteractive',\n",
              "                                                    [key], {});\n",
              "        if (!dataTable) return;\n",
              "\n",
              "        const docLinkHtml = 'Like what you see? Visit the ' +\n",
              "          '<a target=\"_blank\" href=https://colab.research.google.com/notebooks/data_table.ipynb>data table notebook</a>'\n",
              "          + ' to learn more about interactive tables.';\n",
              "        element.innerHTML = '';\n",
              "        dataTable['output_type'] = 'display_data';\n",
              "        await google.colab.output.renderOutput(dataTable, element);\n",
              "        const docLink = document.createElement('div');\n",
              "        docLink.innerHTML = docLinkHtml;\n",
              "        element.appendChild(docLink);\n",
              "      }\n",
              "    </script>\n",
              "  </div>\n",
              "\n",
              "\n",
              "<div id=\"df-709520b1-1866-4a64-ab82-ed0a4290124e\">\n",
              "  <button class=\"colab-df-quickchart\" onclick=\"quickchart('df-709520b1-1866-4a64-ab82-ed0a4290124e')\"\n",
              "            title=\"Suggest charts\"\n",
              "            style=\"display:none;\">\n",
              "\n",
              "<svg xmlns=\"http://www.w3.org/2000/svg\" height=\"24px\"viewBox=\"0 0 24 24\"\n",
              "     width=\"24px\">\n",
              "    <g>\n",
              "        <path d=\"M19 3H5c-1.1 0-2 .9-2 2v14c0 1.1.9 2 2 2h14c1.1 0 2-.9 2-2V5c0-1.1-.9-2-2-2zM9 17H7v-7h2v7zm4 0h-2V7h2v10zm4 0h-2v-4h2v4z\"/>\n",
              "    </g>\n",
              "</svg>\n",
              "  </button>\n",
              "\n",
              "<style>\n",
              "  .colab-df-quickchart {\n",
              "      --bg-color: #E8F0FE;\n",
              "      --fill-color: #1967D2;\n",
              "      --hover-bg-color: #E2EBFA;\n",
              "      --hover-fill-color: #174EA6;\n",
              "      --disabled-fill-color: #AAA;\n",
              "      --disabled-bg-color: #DDD;\n",
              "  }\n",
              "\n",
              "  [theme=dark] .colab-df-quickchart {\n",
              "      --bg-color: #3B4455;\n",
              "      --fill-color: #D2E3FC;\n",
              "      --hover-bg-color: #434B5C;\n",
              "      --hover-fill-color: #FFFFFF;\n",
              "      --disabled-bg-color: #3B4455;\n",
              "      --disabled-fill-color: #666;\n",
              "  }\n",
              "\n",
              "  .colab-df-quickchart {\n",
              "    background-color: var(--bg-color);\n",
              "    border: none;\n",
              "    border-radius: 50%;\n",
              "    cursor: pointer;\n",
              "    display: none;\n",
              "    fill: var(--fill-color);\n",
              "    height: 32px;\n",
              "    padding: 0;\n",
              "    width: 32px;\n",
              "  }\n",
              "\n",
              "  .colab-df-quickchart:hover {\n",
              "    background-color: var(--hover-bg-color);\n",
              "    box-shadow: 0 1px 2px rgba(60, 64, 67, 0.3), 0 1px 3px 1px rgba(60, 64, 67, 0.15);\n",
              "    fill: var(--button-hover-fill-color);\n",
              "  }\n",
              "\n",
              "  .colab-df-quickchart-complete:disabled,\n",
              "  .colab-df-quickchart-complete:disabled:hover {\n",
              "    background-color: var(--disabled-bg-color);\n",
              "    fill: var(--disabled-fill-color);\n",
              "    box-shadow: none;\n",
              "  }\n",
              "\n",
              "  .colab-df-spinner {\n",
              "    border: 2px solid var(--fill-color);\n",
              "    border-color: transparent;\n",
              "    border-bottom-color: var(--fill-color);\n",
              "    animation:\n",
              "      spin 1s steps(1) infinite;\n",
              "  }\n",
              "\n",
              "  @keyframes spin {\n",
              "    0% {\n",
              "      border-color: transparent;\n",
              "      border-bottom-color: var(--fill-color);\n",
              "      border-left-color: var(--fill-color);\n",
              "    }\n",
              "    20% {\n",
              "      border-color: transparent;\n",
              "      border-left-color: var(--fill-color);\n",
              "      border-top-color: var(--fill-color);\n",
              "    }\n",
              "    30% {\n",
              "      border-color: transparent;\n",
              "      border-left-color: var(--fill-color);\n",
              "      border-top-color: var(--fill-color);\n",
              "      border-right-color: var(--fill-color);\n",
              "    }\n",
              "    40% {\n",
              "      border-color: transparent;\n",
              "      border-right-color: var(--fill-color);\n",
              "      border-top-color: var(--fill-color);\n",
              "    }\n",
              "    60% {\n",
              "      border-color: transparent;\n",
              "      border-right-color: var(--fill-color);\n",
              "    }\n",
              "    80% {\n",
              "      border-color: transparent;\n",
              "      border-right-color: var(--fill-color);\n",
              "      border-bottom-color: var(--fill-color);\n",
              "    }\n",
              "    90% {\n",
              "      border-color: transparent;\n",
              "      border-bottom-color: var(--fill-color);\n",
              "    }\n",
              "  }\n",
              "</style>\n",
              "\n",
              "  <script>\n",
              "    async function quickchart(key) {\n",
              "      const quickchartButtonEl =\n",
              "        document.querySelector('#' + key + ' button');\n",
              "      quickchartButtonEl.disabled = true;  // To prevent multiple clicks.\n",
              "      quickchartButtonEl.classList.add('colab-df-spinner');\n",
              "      try {\n",
              "        const charts = await google.colab.kernel.invokeFunction(\n",
              "            'suggestCharts', [key], {});\n",
              "      } catch (error) {\n",
              "        console.error('Error during call to suggestCharts:', error);\n",
              "      }\n",
              "      quickchartButtonEl.classList.remove('colab-df-spinner');\n",
              "      quickchartButtonEl.classList.add('colab-df-quickchart-complete');\n",
              "    }\n",
              "    (() => {\n",
              "      let quickchartButtonEl =\n",
              "        document.querySelector('#df-709520b1-1866-4a64-ab82-ed0a4290124e button');\n",
              "      quickchartButtonEl.style.display =\n",
              "        google.colab.kernel.accessAllowed ? 'block' : 'none';\n",
              "    })();\n",
              "  </script>\n",
              "</div>\n",
              "    </div>\n",
              "  </div>\n"
            ],
            "application/vnd.google.colaboratory.intrinsic+json": {
              "type": "dataframe",
              "variable_name": "df",
              "summary": "{\n  \"name\": \"df\",\n  \"rows\": 10000,\n  \"fields\": [\n    {\n      \"column\": \"USER_ID\",\n      \"properties\": {\n        \"dtype\": \"number\",\n        \"std\": 2890,\n        \"min\": 2,\n        \"max\": 10000,\n        \"num_unique_values\": 6324,\n        \"samples\": [\n          2159,\n          5040,\n          418\n        ],\n        \"semantic_type\": \"\",\n        \"description\": \"\"\n      }\n    },\n    {\n      \"column\": \"VARIANT_NAME\",\n      \"properties\": {\n        \"dtype\": \"category\",\n        \"num_unique_values\": 2,\n        \"samples\": [\n          \"control\",\n          \"variant\"\n        ],\n        \"semantic_type\": \"\",\n        \"description\": \"\"\n      }\n    },\n    {\n      \"column\": \"REVENUE\",\n      \"properties\": {\n        \"dtype\": \"number\",\n        \"std\": 2.3185286544931945,\n        \"min\": 0.0,\n        \"max\": 196.01,\n        \"num_unique_values\": 101,\n        \"samples\": [\n          1.3,\n          3.97\n        ],\n        \"semantic_type\": \"\",\n        \"description\": \"\"\n      }\n    }\n  ]\n}"
            }
          },
          "metadata": {},
          "execution_count": 6
        }
      ],
      "source": [
        "df.head()"
      ]
    },
    {
      "cell_type": "code",
      "execution_count": 7,
      "id": "85f3aa52",
      "metadata": {
        "execution": {
          "iopub.execute_input": "2024-06-24T20:40:19.440636Z",
          "iopub.status.busy": "2024-06-24T20:40:19.440203Z",
          "iopub.status.idle": "2024-06-24T20:40:19.455106Z",
          "shell.execute_reply": "2024-06-24T20:40:19.453993Z"
        },
        "papermill": {
          "duration": 0.037429,
          "end_time": "2024-06-24T20:40:19.457540",
          "exception": false,
          "start_time": "2024-06-24T20:40:19.420111",
          "status": "completed"
        },
        "tags": [],
        "colab": {
          "base_uri": "https://localhost:8080/",
          "height": 178
        },
        "id": "85f3aa52",
        "outputId": "82526527-0eb5-4981-8069-6ed463b49b83"
      },
      "outputs": [
        {
          "output_type": "execute_result",
          "data": {
            "text/plain": [
              "USER_ID         6324\n",
              "VARIANT_NAME       2\n",
              "REVENUE          101\n",
              "dtype: int64"
            ],
            "text/html": [
              "<div>\n",
              "<style scoped>\n",
              "    .dataframe tbody tr th:only-of-type {\n",
              "        vertical-align: middle;\n",
              "    }\n",
              "\n",
              "    .dataframe tbody tr th {\n",
              "        vertical-align: top;\n",
              "    }\n",
              "\n",
              "    .dataframe thead th {\n",
              "        text-align: right;\n",
              "    }\n",
              "</style>\n",
              "<table border=\"1\" class=\"dataframe\">\n",
              "  <thead>\n",
              "    <tr style=\"text-align: right;\">\n",
              "      <th></th>\n",
              "      <th>0</th>\n",
              "    </tr>\n",
              "  </thead>\n",
              "  <tbody>\n",
              "    <tr>\n",
              "      <th>USER_ID</th>\n",
              "      <td>6324</td>\n",
              "    </tr>\n",
              "    <tr>\n",
              "      <th>VARIANT_NAME</th>\n",
              "      <td>2</td>\n",
              "    </tr>\n",
              "    <tr>\n",
              "      <th>REVENUE</th>\n",
              "      <td>101</td>\n",
              "    </tr>\n",
              "  </tbody>\n",
              "</table>\n",
              "</div><br><label><b>dtype:</b> int64</label>"
            ]
          },
          "metadata": {},
          "execution_count": 7
        }
      ],
      "source": [
        "df.nunique()"
      ]
    },
    {
      "cell_type": "code",
      "execution_count": 8,
      "id": "663a35cf",
      "metadata": {
        "execution": {
          "iopub.execute_input": "2024-06-24T20:40:19.496588Z",
          "iopub.status.busy": "2024-06-24T20:40:19.496149Z",
          "iopub.status.idle": "2024-06-24T20:40:19.523268Z",
          "shell.execute_reply": "2024-06-24T20:40:19.522122Z"
        },
        "papermill": {
          "duration": 0.049521,
          "end_time": "2024-06-24T20:40:19.525801",
          "exception": false,
          "start_time": "2024-06-24T20:40:19.476280",
          "status": "completed"
        },
        "tags": [],
        "colab": {
          "base_uri": "https://localhost:8080/",
          "height": 300
        },
        "id": "663a35cf",
        "outputId": "e825ccc3-592b-4a68-fb3f-e747e7eb80a8"
      },
      "outputs": [
        {
          "output_type": "execute_result",
          "data": {
            "text/plain": [
              "            USER_ID       REVENUE\n",
              "count  10000.000000  10000.000000\n",
              "mean    4981.080200      0.099447\n",
              "std     2890.590115      2.318529\n",
              "min        2.000000      0.000000\n",
              "25%     2468.750000      0.000000\n",
              "50%     4962.000000      0.000000\n",
              "75%     7511.500000      0.000000\n",
              "max    10000.000000    196.010000"
            ],
            "text/html": [
              "\n",
              "  <div id=\"df-2ef64caa-8066-45b9-8853-e0d90ada99b3\" class=\"colab-df-container\">\n",
              "    <div>\n",
              "<style scoped>\n",
              "    .dataframe tbody tr th:only-of-type {\n",
              "        vertical-align: middle;\n",
              "    }\n",
              "\n",
              "    .dataframe tbody tr th {\n",
              "        vertical-align: top;\n",
              "    }\n",
              "\n",
              "    .dataframe thead th {\n",
              "        text-align: right;\n",
              "    }\n",
              "</style>\n",
              "<table border=\"1\" class=\"dataframe\">\n",
              "  <thead>\n",
              "    <tr style=\"text-align: right;\">\n",
              "      <th></th>\n",
              "      <th>USER_ID</th>\n",
              "      <th>REVENUE</th>\n",
              "    </tr>\n",
              "  </thead>\n",
              "  <tbody>\n",
              "    <tr>\n",
              "      <th>count</th>\n",
              "      <td>10000.000000</td>\n",
              "      <td>10000.000000</td>\n",
              "    </tr>\n",
              "    <tr>\n",
              "      <th>mean</th>\n",
              "      <td>4981.080200</td>\n",
              "      <td>0.099447</td>\n",
              "    </tr>\n",
              "    <tr>\n",
              "      <th>std</th>\n",
              "      <td>2890.590115</td>\n",
              "      <td>2.318529</td>\n",
              "    </tr>\n",
              "    <tr>\n",
              "      <th>min</th>\n",
              "      <td>2.000000</td>\n",
              "      <td>0.000000</td>\n",
              "    </tr>\n",
              "    <tr>\n",
              "      <th>25%</th>\n",
              "      <td>2468.750000</td>\n",
              "      <td>0.000000</td>\n",
              "    </tr>\n",
              "    <tr>\n",
              "      <th>50%</th>\n",
              "      <td>4962.000000</td>\n",
              "      <td>0.000000</td>\n",
              "    </tr>\n",
              "    <tr>\n",
              "      <th>75%</th>\n",
              "      <td>7511.500000</td>\n",
              "      <td>0.000000</td>\n",
              "    </tr>\n",
              "    <tr>\n",
              "      <th>max</th>\n",
              "      <td>10000.000000</td>\n",
              "      <td>196.010000</td>\n",
              "    </tr>\n",
              "  </tbody>\n",
              "</table>\n",
              "</div>\n",
              "    <div class=\"colab-df-buttons\">\n",
              "\n",
              "  <div class=\"colab-df-container\">\n",
              "    <button class=\"colab-df-convert\" onclick=\"convertToInteractive('df-2ef64caa-8066-45b9-8853-e0d90ada99b3')\"\n",
              "            title=\"Convert this dataframe to an interactive table.\"\n",
              "            style=\"display:none;\">\n",
              "\n",
              "  <svg xmlns=\"http://www.w3.org/2000/svg\" height=\"24px\" viewBox=\"0 -960 960 960\">\n",
              "    <path d=\"M120-120v-720h720v720H120Zm60-500h600v-160H180v160Zm220 220h160v-160H400v160Zm0 220h160v-160H400v160ZM180-400h160v-160H180v160Zm440 0h160v-160H620v160ZM180-180h160v-160H180v160Zm440 0h160v-160H620v160Z\"/>\n",
              "  </svg>\n",
              "    </button>\n",
              "\n",
              "  <style>\n",
              "    .colab-df-container {\n",
              "      display:flex;\n",
              "      gap: 12px;\n",
              "    }\n",
              "\n",
              "    .colab-df-convert {\n",
              "      background-color: #E8F0FE;\n",
              "      border: none;\n",
              "      border-radius: 50%;\n",
              "      cursor: pointer;\n",
              "      display: none;\n",
              "      fill: #1967D2;\n",
              "      height: 32px;\n",
              "      padding: 0 0 0 0;\n",
              "      width: 32px;\n",
              "    }\n",
              "\n",
              "    .colab-df-convert:hover {\n",
              "      background-color: #E2EBFA;\n",
              "      box-shadow: 0px 1px 2px rgba(60, 64, 67, 0.3), 0px 1px 3px 1px rgba(60, 64, 67, 0.15);\n",
              "      fill: #174EA6;\n",
              "    }\n",
              "\n",
              "    .colab-df-buttons div {\n",
              "      margin-bottom: 4px;\n",
              "    }\n",
              "\n",
              "    [theme=dark] .colab-df-convert {\n",
              "      background-color: #3B4455;\n",
              "      fill: #D2E3FC;\n",
              "    }\n",
              "\n",
              "    [theme=dark] .colab-df-convert:hover {\n",
              "      background-color: #434B5C;\n",
              "      box-shadow: 0px 1px 3px 1px rgba(0, 0, 0, 0.15);\n",
              "      filter: drop-shadow(0px 1px 2px rgba(0, 0, 0, 0.3));\n",
              "      fill: #FFFFFF;\n",
              "    }\n",
              "  </style>\n",
              "\n",
              "    <script>\n",
              "      const buttonEl =\n",
              "        document.querySelector('#df-2ef64caa-8066-45b9-8853-e0d90ada99b3 button.colab-df-convert');\n",
              "      buttonEl.style.display =\n",
              "        google.colab.kernel.accessAllowed ? 'block' : 'none';\n",
              "\n",
              "      async function convertToInteractive(key) {\n",
              "        const element = document.querySelector('#df-2ef64caa-8066-45b9-8853-e0d90ada99b3');\n",
              "        const dataTable =\n",
              "          await google.colab.kernel.invokeFunction('convertToInteractive',\n",
              "                                                    [key], {});\n",
              "        if (!dataTable) return;\n",
              "\n",
              "        const docLinkHtml = 'Like what you see? Visit the ' +\n",
              "          '<a target=\"_blank\" href=https://colab.research.google.com/notebooks/data_table.ipynb>data table notebook</a>'\n",
              "          + ' to learn more about interactive tables.';\n",
              "        element.innerHTML = '';\n",
              "        dataTable['output_type'] = 'display_data';\n",
              "        await google.colab.output.renderOutput(dataTable, element);\n",
              "        const docLink = document.createElement('div');\n",
              "        docLink.innerHTML = docLinkHtml;\n",
              "        element.appendChild(docLink);\n",
              "      }\n",
              "    </script>\n",
              "  </div>\n",
              "\n",
              "\n",
              "<div id=\"df-f190c44d-46f2-4b6b-ac91-41e6f88f9914\">\n",
              "  <button class=\"colab-df-quickchart\" onclick=\"quickchart('df-f190c44d-46f2-4b6b-ac91-41e6f88f9914')\"\n",
              "            title=\"Suggest charts\"\n",
              "            style=\"display:none;\">\n",
              "\n",
              "<svg xmlns=\"http://www.w3.org/2000/svg\" height=\"24px\"viewBox=\"0 0 24 24\"\n",
              "     width=\"24px\">\n",
              "    <g>\n",
              "        <path d=\"M19 3H5c-1.1 0-2 .9-2 2v14c0 1.1.9 2 2 2h14c1.1 0 2-.9 2-2V5c0-1.1-.9-2-2-2zM9 17H7v-7h2v7zm4 0h-2V7h2v10zm4 0h-2v-4h2v4z\"/>\n",
              "    </g>\n",
              "</svg>\n",
              "  </button>\n",
              "\n",
              "<style>\n",
              "  .colab-df-quickchart {\n",
              "      --bg-color: #E8F0FE;\n",
              "      --fill-color: #1967D2;\n",
              "      --hover-bg-color: #E2EBFA;\n",
              "      --hover-fill-color: #174EA6;\n",
              "      --disabled-fill-color: #AAA;\n",
              "      --disabled-bg-color: #DDD;\n",
              "  }\n",
              "\n",
              "  [theme=dark] .colab-df-quickchart {\n",
              "      --bg-color: #3B4455;\n",
              "      --fill-color: #D2E3FC;\n",
              "      --hover-bg-color: #434B5C;\n",
              "      --hover-fill-color: #FFFFFF;\n",
              "      --disabled-bg-color: #3B4455;\n",
              "      --disabled-fill-color: #666;\n",
              "  }\n",
              "\n",
              "  .colab-df-quickchart {\n",
              "    background-color: var(--bg-color);\n",
              "    border: none;\n",
              "    border-radius: 50%;\n",
              "    cursor: pointer;\n",
              "    display: none;\n",
              "    fill: var(--fill-color);\n",
              "    height: 32px;\n",
              "    padding: 0;\n",
              "    width: 32px;\n",
              "  }\n",
              "\n",
              "  .colab-df-quickchart:hover {\n",
              "    background-color: var(--hover-bg-color);\n",
              "    box-shadow: 0 1px 2px rgba(60, 64, 67, 0.3), 0 1px 3px 1px rgba(60, 64, 67, 0.15);\n",
              "    fill: var(--button-hover-fill-color);\n",
              "  }\n",
              "\n",
              "  .colab-df-quickchart-complete:disabled,\n",
              "  .colab-df-quickchart-complete:disabled:hover {\n",
              "    background-color: var(--disabled-bg-color);\n",
              "    fill: var(--disabled-fill-color);\n",
              "    box-shadow: none;\n",
              "  }\n",
              "\n",
              "  .colab-df-spinner {\n",
              "    border: 2px solid var(--fill-color);\n",
              "    border-color: transparent;\n",
              "    border-bottom-color: var(--fill-color);\n",
              "    animation:\n",
              "      spin 1s steps(1) infinite;\n",
              "  }\n",
              "\n",
              "  @keyframes spin {\n",
              "    0% {\n",
              "      border-color: transparent;\n",
              "      border-bottom-color: var(--fill-color);\n",
              "      border-left-color: var(--fill-color);\n",
              "    }\n",
              "    20% {\n",
              "      border-color: transparent;\n",
              "      border-left-color: var(--fill-color);\n",
              "      border-top-color: var(--fill-color);\n",
              "    }\n",
              "    30% {\n",
              "      border-color: transparent;\n",
              "      border-left-color: var(--fill-color);\n",
              "      border-top-color: var(--fill-color);\n",
              "      border-right-color: var(--fill-color);\n",
              "    }\n",
              "    40% {\n",
              "      border-color: transparent;\n",
              "      border-right-color: var(--fill-color);\n",
              "      border-top-color: var(--fill-color);\n",
              "    }\n",
              "    60% {\n",
              "      border-color: transparent;\n",
              "      border-right-color: var(--fill-color);\n",
              "    }\n",
              "    80% {\n",
              "      border-color: transparent;\n",
              "      border-right-color: var(--fill-color);\n",
              "      border-bottom-color: var(--fill-color);\n",
              "    }\n",
              "    90% {\n",
              "      border-color: transparent;\n",
              "      border-bottom-color: var(--fill-color);\n",
              "    }\n",
              "  }\n",
              "</style>\n",
              "\n",
              "  <script>\n",
              "    async function quickchart(key) {\n",
              "      const quickchartButtonEl =\n",
              "        document.querySelector('#' + key + ' button');\n",
              "      quickchartButtonEl.disabled = true;  // To prevent multiple clicks.\n",
              "      quickchartButtonEl.classList.add('colab-df-spinner');\n",
              "      try {\n",
              "        const charts = await google.colab.kernel.invokeFunction(\n",
              "            'suggestCharts', [key], {});\n",
              "      } catch (error) {\n",
              "        console.error('Error during call to suggestCharts:', error);\n",
              "      }\n",
              "      quickchartButtonEl.classList.remove('colab-df-spinner');\n",
              "      quickchartButtonEl.classList.add('colab-df-quickchart-complete');\n",
              "    }\n",
              "    (() => {\n",
              "      let quickchartButtonEl =\n",
              "        document.querySelector('#df-f190c44d-46f2-4b6b-ac91-41e6f88f9914 button');\n",
              "      quickchartButtonEl.style.display =\n",
              "        google.colab.kernel.accessAllowed ? 'block' : 'none';\n",
              "    })();\n",
              "  </script>\n",
              "</div>\n",
              "    </div>\n",
              "  </div>\n"
            ],
            "application/vnd.google.colaboratory.intrinsic+json": {
              "type": "dataframe",
              "summary": "{\n  \"name\": \"df\",\n  \"rows\": 8,\n  \"fields\": [\n    {\n      \"column\": \"USER_ID\",\n      \"properties\": {\n        \"dtype\": \"number\",\n        \"std\": 3608.622589070218,\n        \"min\": 2.0,\n        \"max\": 10000.0,\n        \"num_unique_values\": 7,\n        \"samples\": [\n          10000.0,\n          4981.0802,\n          4962.0\n        ],\n        \"semantic_type\": \"\",\n        \"description\": \"\"\n      }\n    },\n    {\n      \"column\": \"REVENUE\",\n      \"properties\": {\n        \"dtype\": \"number\",\n        \"std\": 3526.176270991776,\n        \"min\": 0.0,\n        \"max\": 10000.0,\n        \"num_unique_values\": 5,\n        \"samples\": [\n          0.09944700000000001,\n          196.01,\n          2.3185286544931945\n        ],\n        \"semantic_type\": \"\",\n        \"description\": \"\"\n      }\n    }\n  ]\n}"
            }
          },
          "metadata": {},
          "execution_count": 8
        }
      ],
      "source": [
        "df.describe()"
      ]
    },
    {
      "cell_type": "markdown",
      "id": "397f45e9",
      "metadata": {
        "papermill": {
          "duration": 0.017943,
          "end_time": "2024-06-24T20:40:19.562303",
          "exception": false,
          "start_time": "2024-06-24T20:40:19.544360",
          "status": "completed"
        },
        "tags": [],
        "id": "397f45e9"
      },
      "source": [
        "Давайте посмотрим, есть ли пользователи, которые состоят и в группе 'control' и в 'varinat' одновременно"
      ]
    },
    {
      "cell_type": "code",
      "execution_count": 9,
      "id": "b33b0a78",
      "metadata": {
        "execution": {
          "iopub.execute_input": "2024-06-24T20:40:19.601056Z",
          "iopub.status.busy": "2024-06-24T20:40:19.600618Z",
          "iopub.status.idle": "2024-06-24T20:40:19.616370Z",
          "shell.execute_reply": "2024-06-24T20:40:19.615192Z"
        },
        "papermill": {
          "duration": 0.03922,
          "end_time": "2024-06-24T20:40:19.620017",
          "exception": false,
          "start_time": "2024-06-24T20:40:19.580797",
          "status": "completed"
        },
        "tags": [],
        "colab": {
          "base_uri": "https://localhost:8080/",
          "height": 178
        },
        "id": "b33b0a78",
        "outputId": "c450869a-b3d4-4323-b3f8-9a31eefed70d"
      },
      "outputs": [
        {
          "output_type": "execute_result",
          "data": {
            "text/plain": [
              "VARIANT_NAME\n",
              "1    4783\n",
              "2    1541\n",
              "Name: count, dtype: int64"
            ],
            "text/html": [
              "<div>\n",
              "<style scoped>\n",
              "    .dataframe tbody tr th:only-of-type {\n",
              "        vertical-align: middle;\n",
              "    }\n",
              "\n",
              "    .dataframe tbody tr th {\n",
              "        vertical-align: top;\n",
              "    }\n",
              "\n",
              "    .dataframe thead th {\n",
              "        text-align: right;\n",
              "    }\n",
              "</style>\n",
              "<table border=\"1\" class=\"dataframe\">\n",
              "  <thead>\n",
              "    <tr style=\"text-align: right;\">\n",
              "      <th></th>\n",
              "      <th>count</th>\n",
              "    </tr>\n",
              "    <tr>\n",
              "      <th>VARIANT_NAME</th>\n",
              "      <th></th>\n",
              "    </tr>\n",
              "  </thead>\n",
              "  <tbody>\n",
              "    <tr>\n",
              "      <th>1</th>\n",
              "      <td>4783</td>\n",
              "    </tr>\n",
              "    <tr>\n",
              "      <th>2</th>\n",
              "      <td>1541</td>\n",
              "    </tr>\n",
              "  </tbody>\n",
              "</table>\n",
              "</div><br><label><b>dtype:</b> int64</label>"
            ]
          },
          "metadata": {},
          "execution_count": 9
        }
      ],
      "source": [
        "#распределение кол-ва уникальных групп для каждого пользователя\n",
        "double_variant_count = df.groupby('USER_ID')['VARIANT_NAME'].nunique().value_counts()\n",
        "double_variant_count"
      ]
    },
    {
      "cell_type": "code",
      "execution_count": 10,
      "id": "fb5a37e6",
      "metadata": {
        "execution": {
          "iopub.execute_input": "2024-06-24T20:40:19.660742Z",
          "iopub.status.busy": "2024-06-24T20:40:19.659851Z",
          "iopub.status.idle": "2024-06-24T20:40:19.668523Z",
          "shell.execute_reply": "2024-06-24T20:40:19.667427Z"
        },
        "papermill": {
          "duration": 0.031782,
          "end_time": "2024-06-24T20:40:19.670989",
          "exception": false,
          "start_time": "2024-06-24T20:40:19.639207",
          "status": "completed"
        },
        "tags": [],
        "colab": {
          "base_uri": "https://localhost:8080/",
          "height": 178
        },
        "id": "fb5a37e6",
        "outputId": "13b29852-2cf3-4de8-b6e0-832ba45e01d8"
      },
      "outputs": [
        {
          "output_type": "execute_result",
          "data": {
            "text/plain": [
              "VARIANT_NAME\n",
              "1    0.756325\n",
              "2    0.243675\n",
              "Name: count, dtype: float64"
            ],
            "text/html": [
              "<div>\n",
              "<style scoped>\n",
              "    .dataframe tbody tr th:only-of-type {\n",
              "        vertical-align: middle;\n",
              "    }\n",
              "\n",
              "    .dataframe tbody tr th {\n",
              "        vertical-align: top;\n",
              "    }\n",
              "\n",
              "    .dataframe thead th {\n",
              "        text-align: right;\n",
              "    }\n",
              "</style>\n",
              "<table border=\"1\" class=\"dataframe\">\n",
              "  <thead>\n",
              "    <tr style=\"text-align: right;\">\n",
              "      <th></th>\n",
              "      <th>count</th>\n",
              "    </tr>\n",
              "    <tr>\n",
              "      <th>VARIANT_NAME</th>\n",
              "      <th></th>\n",
              "    </tr>\n",
              "  </thead>\n",
              "  <tbody>\n",
              "    <tr>\n",
              "      <th>1</th>\n",
              "      <td>0.756325</td>\n",
              "    </tr>\n",
              "    <tr>\n",
              "      <th>2</th>\n",
              "      <td>0.243675</td>\n",
              "    </tr>\n",
              "  </tbody>\n",
              "</table>\n",
              "</div><br><label><b>dtype:</b> float64</label>"
            ]
          },
          "metadata": {},
          "execution_count": 10
        }
      ],
      "source": [
        "#посмотрим на распределение по долям\n",
        "double_variant_count / double_variant_count.sum()"
      ]
    },
    {
      "cell_type": "markdown",
      "id": "1fbecfc0",
      "metadata": {
        "papermill": {
          "duration": 0.018741,
          "end_time": "2024-06-24T20:40:19.709299",
          "exception": false,
          "start_time": "2024-06-24T20:40:19.690558",
          "status": "completed"
        },
        "tags": [],
        "id": "1fbecfc0"
      },
      "source": [
        "Мы видим, что такие пользователи есть и их довольно много - 24%. Если учитывать этих пользователей, то эффект изменений в эксперименте будет размыт. Поэтому мы исключаем данные пользователей из расчета изменений в эксперименте."
      ]
    },
    {
      "cell_type": "code",
      "execution_count": 11,
      "id": "4ef1c1f5",
      "metadata": {
        "execution": {
          "iopub.execute_input": "2024-06-24T20:40:19.748854Z",
          "iopub.status.busy": "2024-06-24T20:40:19.748436Z",
          "iopub.status.idle": "2024-06-24T20:40:19.759959Z",
          "shell.execute_reply": "2024-06-24T20:40:19.758798Z"
        },
        "papermill": {
          "duration": 0.034564,
          "end_time": "2024-06-24T20:40:19.762732",
          "exception": false,
          "start_time": "2024-06-24T20:40:19.728168",
          "status": "completed"
        },
        "tags": [],
        "id": "4ef1c1f5"
      },
      "outputs": [],
      "source": [
        "single_variant_users = (df.groupby('USER_ID')['VARIANT_NAME'].nunique() == 1)\n",
        "single_variant_users = single_variant_users[single_variant_users]\n",
        "df = df[df['USER_ID'].isin(single_variant_users.index)]\n"
      ]
    },
    {
      "cell_type": "code",
      "execution_count": 12,
      "id": "300046ff",
      "metadata": {
        "execution": {
          "iopub.execute_input": "2024-06-24T20:40:19.802517Z",
          "iopub.status.busy": "2024-06-24T20:40:19.801479Z",
          "iopub.status.idle": "2024-06-24T20:40:19.816210Z",
          "shell.execute_reply": "2024-06-24T20:40:19.815071Z"
        },
        "papermill": {
          "duration": 0.037181,
          "end_time": "2024-06-24T20:40:19.818639",
          "exception": false,
          "start_time": "2024-06-24T20:40:19.781458",
          "status": "completed"
        },
        "tags": [],
        "colab": {
          "base_uri": "https://localhost:8080/"
        },
        "id": "300046ff",
        "outputId": "6b2e114c-f697-4402-e9d1-021778861c5d"
      },
      "outputs": [
        {
          "output_type": "execute_result",
          "data": {
            "text/plain": [
              "True"
            ]
          },
          "metadata": {},
          "execution_count": 12
        }
      ],
      "source": [
        "\n",
        "# на всякий случай проверим, что количество пользователей совпадает с тем, что было до исключения\n",
        "df.groupby('USER_ID')['VARIANT_NAME'].nunique().value_counts().iloc[0] == double_variant_count.iloc[0]"
      ]
    },
    {
      "cell_type": "markdown",
      "id": "c6a89424",
      "metadata": {
        "papermill": {
          "duration": 0.018345,
          "end_time": "2024-06-24T20:40:19.855665",
          "exception": false,
          "start_time": "2024-06-24T20:40:19.837320",
          "status": "completed"
        },
        "tags": [],
        "id": "c6a89424"
      },
      "source": [
        "Давайте посмотрим, как распределены данные."
      ]
    },
    {
      "cell_type": "code",
      "execution_count": 13,
      "id": "fd3a375b",
      "metadata": {
        "execution": {
          "iopub.execute_input": "2024-06-24T20:40:19.894881Z",
          "iopub.status.busy": "2024-06-24T20:40:19.894431Z",
          "iopub.status.idle": "2024-06-24T20:40:20.148272Z",
          "shell.execute_reply": "2024-06-24T20:40:20.146987Z"
        },
        "papermill": {
          "duration": 0.276521,
          "end_time": "2024-06-24T20:40:20.150872",
          "exception": false,
          "start_time": "2024-06-24T20:40:19.874351",
          "status": "completed"
        },
        "tags": [],
        "colab": {
          "base_uri": "https://localhost:8080/",
          "height": 466
        },
        "id": "fd3a375b",
        "outputId": "2fbde366-6291-479e-c519-77430264426d"
      },
      "outputs": [
        {
          "output_type": "execute_result",
          "data": {
            "text/plain": [
              "<Axes: xlabel='VARIANT_NAME', ylabel='REVENUE'>"
            ]
          },
          "metadata": {},
          "execution_count": 13
        },
        {
          "output_type": "display_data",
          "data": {
            "text/plain": [
              "<Figure size 640x480 with 1 Axes>"
            ],
            "image/png": "[encoded data removed]"
          },
          "metadata": {}
        }
      ],
      "source": [
        "sns.boxplot(x='VARIANT_NAME', y='REVENUE', data=df)"
      ]
    },
    {
      "cell_type": "markdown",
      "id": "46fc3d28",
      "metadata": {
        "papermill": {
          "duration": 0.019291,
          "end_time": "2024-06-24T20:40:20.189484",
          "exception": false,
          "start_time": "2024-06-24T20:40:20.170193",
          "status": "completed"
        },
        "tags": [],
        "id": "46fc3d28"
      },
      "source": [
        "Видно, что в данных есть сильный выброс — найдем его, отсортировав эти значения выручки в порядке убывания."
      ]
    },
    {
      "cell_type": "code",
      "execution_count": 14,
      "id": "dfd11a3a",
      "metadata": {
        "execution": {
          "iopub.execute_input": "2024-06-24T20:40:20.230498Z",
          "iopub.status.busy": "2024-06-24T20:40:20.230060Z",
          "iopub.status.idle": "2024-06-24T20:40:20.245265Z",
          "shell.execute_reply": "2024-06-24T20:40:20.243832Z"
        },
        "papermill": {
          "duration": 0.038705,
          "end_time": "2024-06-24T20:40:20.247968",
          "exception": false,
          "start_time": "2024-06-24T20:40:20.209263",
          "status": "completed"
        },
        "tags": [],
        "colab": {
          "base_uri": "https://localhost:8080/",
          "height": 363
        },
        "id": "dfd11a3a",
        "outputId": "f3a485cb-c9f5-4941-99e6-a610d892f707"
      },
      "outputs": [
        {
          "output_type": "execute_result",
          "data": {
            "text/plain": [
              "      USER_ID VARIANT_NAME  REVENUE\n",
              "1437     3342      control   196.01\n",
              "8168     2166      control    29.32\n",
              "2482     7356      variant    23.04\n",
              "6412     1053      control    20.07\n",
              "5217     3684      variant    19.47\n",
              "5530      282      control    18.56\n",
              "758      4445      control    17.05\n",
              "4031     2059      control    14.24\n",
              "9019     1973      control    14.07\n",
              "4561     4966      variant    12.99"
            ],
            "text/html": [
              "\n",
              "  <div id=\"df-c79e0c53-ed21-418c-9674-9c8c774d4576\" class=\"colab-df-container\">\n",
              "    <div>\n",
              "<style scoped>\n",
              "    .dataframe tbody tr th:only-of-type {\n",
              "        vertical-align: middle;\n",
              "    }\n",
              "\n",
              "    .dataframe tbody tr th {\n",
              "        vertical-align: top;\n",
              "    }\n",
              "\n",
              "    .dataframe thead th {\n",
              "        text-align: right;\n",
              "    }\n",
              "</style>\n",
              "<table border=\"1\" class=\"dataframe\">\n",
              "  <thead>\n",
              "    <tr style=\"text-align: right;\">\n",
              "      <th></th>\n",
              "      <th>USER_ID</th>\n",
              "      <th>VARIANT_NAME</th>\n",
              "      <th>REVENUE</th>\n",
              "    </tr>\n",
              "  </thead>\n",
              "  <tbody>\n",
              "    <tr>\n",
              "      <th>1437</th>\n",
              "      <td>3342</td>\n",
              "      <td>control</td>\n",
              "      <td>196.01</td>\n",
              "    </tr>\n",
              "    <tr>\n",
              "      <th>8168</th>\n",
              "      <td>2166</td>\n",
              "      <td>control</td>\n",
              "      <td>29.32</td>\n",
              "    </tr>\n",
              "    <tr>\n",
              "      <th>2482</th>\n",
              "      <td>7356</td>\n",
              "      <td>variant</td>\n",
              "      <td>23.04</td>\n",
              "    </tr>\n",
              "    <tr>\n",
              "      <th>6412</th>\n",
              "      <td>1053</td>\n",
              "      <td>control</td>\n",
              "      <td>20.07</td>\n",
              "    </tr>\n",
              "    <tr>\n",
              "      <th>5217</th>\n",
              "      <td>3684</td>\n",
              "      <td>variant</td>\n",
              "      <td>19.47</td>\n",
              "    </tr>\n",
              "    <tr>\n",
              "      <th>5530</th>\n",
              "      <td>282</td>\n",
              "      <td>control</td>\n",
              "      <td>18.56</td>\n",
              "    </tr>\n",
              "    <tr>\n",
              "      <th>758</th>\n",
              "      <td>4445</td>\n",
              "      <td>control</td>\n",
              "      <td>17.05</td>\n",
              "    </tr>\n",
              "    <tr>\n",
              "      <th>4031</th>\n",
              "      <td>2059</td>\n",
              "      <td>control</td>\n",
              "      <td>14.24</td>\n",
              "    </tr>\n",
              "    <tr>\n",
              "      <th>9019</th>\n",
              "      <td>1973</td>\n",
              "      <td>control</td>\n",
              "      <td>14.07</td>\n",
              "    </tr>\n",
              "    <tr>\n",
              "      <th>4561</th>\n",
              "      <td>4966</td>\n",
              "      <td>variant</td>\n",
              "      <td>12.99</td>\n",
              "    </tr>\n",
              "  </tbody>\n",
              "</table>\n",
              "</div>\n",
              "    <div class=\"colab-df-buttons\">\n",
              "\n",
              "  <div class=\"colab-df-container\">\n",
              "    <button class=\"colab-df-convert\" onclick=\"convertToInteractive('df-c79e0c53-ed21-418c-9674-9c8c774d4576')\"\n",
              "            title=\"Convert this dataframe to an interactive table.\"\n",
              "            style=\"display:none;\">\n",
              "\n",
              "  <svg xmlns=\"http://www.w3.org/2000/svg\" height=\"24px\" viewBox=\"0 -960 960 960\">\n",
              "    <path d=\"M120-120v-720h720v720H120Zm60-500h600v-160H180v160Zm220 220h160v-160H400v160Zm0 220h160v-160H400v160ZM180-400h160v-160H180v160Zm440 0h160v-160H620v160ZM180-180h160v-160H180v160Zm440 0h160v-160H620v160Z\"/>\n",
              "  </svg>\n",
              "    </button>\n",
              "\n",
              "  <style>\n",
              "    .colab-df-container {\n",
              "      display:flex;\n",
              "      gap: 12px;\n",
              "    }\n",
              "\n",
              "    .colab-df-convert {\n",
              "      background-color: #E8F0FE;\n",
              "      border: none;\n",
              "      border-radius: 50%;\n",
              "      cursor: pointer;\n",
              "      display: none;\n",
              "      fill: #1967D2;\n",
              "      height: 32px;\n",
              "      padding: 0 0 0 0;\n",
              "      width: 32px;\n",
              "    }\n",
              "\n",
              "    .colab-df-convert:hover {\n",
              "      background-color: #E2EBFA;\n",
              "      box-shadow: 0px 1px 2px rgba(60, 64, 67, 0.3), 0px 1px 3px 1px rgba(60, 64, 67, 0.15);\n",
              "      fill: #174EA6;\n",
              "    }\n",
              "\n",
              "    .colab-df-buttons div {\n",
              "      margin-bottom: 4px;\n",
              "    }\n",
              "\n",
              "    [theme=dark] .colab-df-convert {\n",
              "      background-color: #3B4455;\n",
              "      fill: #D2E3FC;\n",
              "    }\n",
              "\n",
              "    [theme=dark] .colab-df-convert:hover {\n",
              "      background-color: #434B5C;\n",
              "      box-shadow: 0px 1px 3px 1px rgba(0, 0, 0, 0.15);\n",
              "      filter: drop-shadow(0px 1px 2px rgba(0, 0, 0, 0.3));\n",
              "      fill: #FFFFFF;\n",
              "    }\n",
              "  </style>\n",
              "\n",
              "    <script>\n",
              "      const buttonEl =\n",
              "        document.querySelector('#df-c79e0c53-ed21-418c-9674-9c8c774d4576 button.colab-df-convert');\n",
              "      buttonEl.style.display =\n",
              "        google.colab.kernel.accessAllowed ? 'block' : 'none';\n",
              "\n",
              "      async function convertToInteractive(key) {\n",
              "        const element = document.querySelector('#df-c79e0c53-ed21-418c-9674-9c8c774d4576');\n",
              "        const dataTable =\n",
              "          await google.colab.kernel.invokeFunction('convertToInteractive',\n",
              "                                                    [key], {});\n",
              "        if (!dataTable) return;\n",
              "\n",
              "        const docLinkHtml = 'Like what you see? Visit the ' +\n",
              "          '<a target=\"_blank\" href=https://colab.research.google.com/notebooks/data_table.ipynb>data table notebook</a>'\n",
              "          + ' to learn more about interactive tables.';\n",
              "        element.innerHTML = '';\n",
              "        dataTable['output_type'] = 'display_data';\n",
              "        await google.colab.output.renderOutput(dataTable, element);\n",
              "        const docLink = document.createElement('div');\n",
              "        docLink.innerHTML = docLinkHtml;\n",
              "        element.appendChild(docLink);\n",
              "      }\n",
              "    </script>\n",
              "  </div>\n",
              "\n",
              "\n",
              "<div id=\"df-d6577761-2cd1-4eaf-9cfe-55129d5fcb7a\">\n",
              "  <button class=\"colab-df-quickchart\" onclick=\"quickchart('df-d6577761-2cd1-4eaf-9cfe-55129d5fcb7a')\"\n",
              "            title=\"Suggest charts\"\n",
              "            style=\"display:none;\">\n",
              "\n",
              "<svg xmlns=\"http://www.w3.org/2000/svg\" height=\"24px\"viewBox=\"0 0 24 24\"\n",
              "     width=\"24px\">\n",
              "    <g>\n",
              "        <path d=\"M19 3H5c-1.1 0-2 .9-2 2v14c0 1.1.9 2 2 2h14c1.1 0 2-.9 2-2V5c0-1.1-.9-2-2-2zM9 17H7v-7h2v7zm4 0h-2V7h2v10zm4 0h-2v-4h2v4z\"/>\n",
              "    </g>\n",
              "</svg>\n",
              "  </button>\n",
              "\n",
              "<style>\n",
              "  .colab-df-quickchart {\n",
              "      --bg-color: #E8F0FE;\n",
              "      --fill-color: #1967D2;\n",
              "      --hover-bg-color: #E2EBFA;\n",
              "      --hover-fill-color: #174EA6;\n",
              "      --disabled-fill-color: #AAA;\n",
              "      --disabled-bg-color: #DDD;\n",
              "  }\n",
              "\n",
              "  [theme=dark] .colab-df-quickchart {\n",
              "      --bg-color: #3B4455;\n",
              "      --fill-color: #D2E3FC;\n",
              "      --hover-bg-color: #434B5C;\n",
              "      --hover-fill-color: #FFFFFF;\n",
              "      --disabled-bg-color: #3B4455;\n",
              "      --disabled-fill-color: #666;\n",
              "  }\n",
              "\n",
              "  .colab-df-quickchart {\n",
              "    background-color: var(--bg-color);\n",
              "    border: none;\n",
              "    border-radius: 50%;\n",
              "    cursor: pointer;\n",
              "    display: none;\n",
              "    fill: var(--fill-color);\n",
              "    height: 32px;\n",
              "    padding: 0;\n",
              "    width: 32px;\n",
              "  }\n",
              "\n",
              "  .colab-df-quickchart:hover {\n",
              "    background-color: var(--hover-bg-color);\n",
              "    box-shadow: 0 1px 2px rgba(60, 64, 67, 0.3), 0 1px 3px 1px rgba(60, 64, 67, 0.15);\n",
              "    fill: var(--button-hover-fill-color);\n",
              "  }\n",
              "\n",
              "  .colab-df-quickchart-complete:disabled,\n",
              "  .colab-df-quickchart-complete:disabled:hover {\n",
              "    background-color: var(--disabled-bg-color);\n",
              "    fill: var(--disabled-fill-color);\n",
              "    box-shadow: none;\n",
              "  }\n",
              "\n",
              "  .colab-df-spinner {\n",
              "    border: 2px solid var(--fill-color);\n",
              "    border-color: transparent;\n",
              "    border-bottom-color: var(--fill-color);\n",
              "    animation:\n",
              "      spin 1s steps(1) infinite;\n",
              "  }\n",
              "\n",
              "  @keyframes spin {\n",
              "    0% {\n",
              "      border-color: transparent;\n",
              "      border-bottom-color: var(--fill-color);\n",
              "      border-left-color: var(--fill-color);\n",
              "    }\n",
              "    20% {\n",
              "      border-color: transparent;\n",
              "      border-left-color: var(--fill-color);\n",
              "      border-top-color: var(--fill-color);\n",
              "    }\n",
              "    30% {\n",
              "      border-color: transparent;\n",
              "      border-left-color: var(--fill-color);\n",
              "      border-top-color: var(--fill-color);\n",
              "      border-right-color: var(--fill-color);\n",
              "    }\n",
              "    40% {\n",
              "      border-color: transparent;\n",
              "      border-right-color: var(--fill-color);\n",
              "      border-top-color: var(--fill-color);\n",
              "    }\n",
              "    60% {\n",
              "      border-color: transparent;\n",
              "      border-right-color: var(--fill-color);\n",
              "    }\n",
              "    80% {\n",
              "      border-color: transparent;\n",
              "      border-right-color: var(--fill-color);\n",
              "      border-bottom-color: var(--fill-color);\n",
              "    }\n",
              "    90% {\n",
              "      border-color: transparent;\n",
              "      border-bottom-color: var(--fill-color);\n",
              "    }\n",
              "  }\n",
              "</style>\n",
              "\n",
              "  <script>\n",
              "    async function quickchart(key) {\n",
              "      const quickchartButtonEl =\n",
              "        document.querySelector('#' + key + ' button');\n",
              "      quickchartButtonEl.disabled = true;  // To prevent multiple clicks.\n",
              "      quickchartButtonEl.classList.add('colab-df-spinner');\n",
              "      try {\n",
              "        const charts = await google.colab.kernel.invokeFunction(\n",
              "            'suggestCharts', [key], {});\n",
              "      } catch (error) {\n",
              "        console.error('Error during call to suggestCharts:', error);\n",
              "      }\n",
              "      quickchartButtonEl.classList.remove('colab-df-spinner');\n",
              "      quickchartButtonEl.classList.add('colab-df-quickchart-complete');\n",
              "    }\n",
              "    (() => {\n",
              "      let quickchartButtonEl =\n",
              "        document.querySelector('#df-d6577761-2cd1-4eaf-9cfe-55129d5fcb7a button');\n",
              "      quickchartButtonEl.style.display =\n",
              "        google.colab.kernel.accessAllowed ? 'block' : 'none';\n",
              "    })();\n",
              "  </script>\n",
              "</div>\n",
              "    </div>\n",
              "  </div>\n"
            ],
            "application/vnd.google.colaboratory.intrinsic+json": {
              "type": "dataframe",
              "summary": "{\n  \"name\": \"df\",\n  \"rows\": 10,\n  \"fields\": [\n    {\n      \"column\": \"USER_ID\",\n      \"properties\": {\n        \"dtype\": \"number\",\n        \"std\": 2085,\n        \"min\": 282,\n        \"max\": 7356,\n        \"num_unique_values\": 10,\n        \"samples\": [\n          1973,\n          2166,\n          282\n        ],\n        \"semantic_type\": \"\",\n        \"description\": \"\"\n      }\n    },\n    {\n      \"column\": \"VARIANT_NAME\",\n      \"properties\": {\n        \"dtype\": \"category\",\n        \"num_unique_values\": 2,\n        \"samples\": [\n          \"variant\",\n          \"control\"\n        ],\n        \"semantic_type\": \"\",\n        \"description\": \"\"\n      }\n    },\n    {\n      \"column\": \"REVENUE\",\n      \"properties\": {\n        \"dtype\": \"number\",\n        \"std\": 56.2609054712457,\n        \"min\": 12.99,\n        \"max\": 196.01,\n        \"num_unique_values\": 10,\n        \"samples\": [\n          14.07,\n          29.32\n        ],\n        \"semantic_type\": \"\",\n        \"description\": \"\"\n      }\n    }\n  ]\n}"
            }
          },
          "metadata": {},
          "execution_count": 14
        }
      ],
      "source": [
        "df.sort_values(by='REVENUE', ascending=False).iloc[:10]"
      ]
    },
    {
      "cell_type": "markdown",
      "id": "0cf73e39",
      "metadata": {
        "papermill": {
          "duration": 0.019355,
          "end_time": "2024-06-24T20:40:20.286884",
          "exception": false,
          "start_time": "2024-06-24T20:40:20.267529",
          "status": "completed"
        },
        "tags": [],
        "id": "0cf73e39"
      },
      "source": [
        "Посмотрим, были ли у пользователя 3342 другие события с сильным выбросом."
      ]
    },
    {
      "cell_type": "code",
      "execution_count": 15,
      "id": "baa6d1c5",
      "metadata": {
        "execution": {
          "iopub.execute_input": "2024-06-24T20:40:20.327951Z",
          "iopub.status.busy": "2024-06-24T20:40:20.327509Z",
          "iopub.status.idle": "2024-06-24T20:40:20.340540Z",
          "shell.execute_reply": "2024-06-24T20:40:20.339245Z"
        },
        "papermill": {
          "duration": 0.036813,
          "end_time": "2024-06-24T20:40:20.343100",
          "exception": false,
          "start_time": "2024-06-24T20:40:20.306287",
          "status": "completed"
        },
        "tags": [],
        "colab": {
          "base_uri": "https://localhost:8080/",
          "height": 81
        },
        "id": "baa6d1c5",
        "outputId": "2c31220a-1054-4e33-f867-033765dd001e"
      },
      "outputs": [
        {
          "output_type": "execute_result",
          "data": {
            "text/plain": [
              "      USER_ID VARIANT_NAME  REVENUE\n",
              "1437     3342      control   196.01"
            ],
            "text/html": [
              "\n",
              "  <div id=\"df-5420ed47-ebb6-4073-bfca-acec0f45b81c\" class=\"colab-df-container\">\n",
              "    <div>\n",
              "<style scoped>\n",
              "    .dataframe tbody tr th:only-of-type {\n",
              "        vertical-align: middle;\n",
              "    }\n",
              "\n",
              "    .dataframe tbody tr th {\n",
              "        vertical-align: top;\n",
              "    }\n",
              "\n",
              "    .dataframe thead th {\n",
              "        text-align: right;\n",
              "    }\n",
              "</style>\n",
              "<table border=\"1\" class=\"dataframe\">\n",
              "  <thead>\n",
              "    <tr style=\"text-align: right;\">\n",
              "      <th></th>\n",
              "      <th>USER_ID</th>\n",
              "      <th>VARIANT_NAME</th>\n",
              "      <th>REVENUE</th>\n",
              "    </tr>\n",
              "  </thead>\n",
              "  <tbody>\n",
              "    <tr>\n",
              "      <th>1437</th>\n",
              "      <td>3342</td>\n",
              "      <td>control</td>\n",
              "      <td>196.01</td>\n",
              "    </tr>\n",
              "  </tbody>\n",
              "</table>\n",
              "</div>\n",
              "    <div class=\"colab-df-buttons\">\n",
              "\n",
              "  <div class=\"colab-df-container\">\n",
              "    <button class=\"colab-df-convert\" onclick=\"convertToInteractive('df-5420ed47-ebb6-4073-bfca-acec0f45b81c')\"\n",
              "            title=\"Convert this dataframe to an interactive table.\"\n",
              "            style=\"display:none;\">\n",
              "\n",
              "  <svg xmlns=\"http://www.w3.org/2000/svg\" height=\"24px\" viewBox=\"0 -960 960 960\">\n",
              "    <path d=\"M120-120v-720h720v720H120Zm60-500h600v-160H180v160Zm220 220h160v-160H400v160Zm0 220h160v-160H400v160ZM180-400h160v-160H180v160Zm440 0h160v-160H620v160ZM180-180h160v-160H180v160Zm440 0h160v-160H620v160Z\"/>\n",
              "  </svg>\n",
              "    </button>\n",
              "\n",
              "  <style>\n",
              "    .colab-df-container {\n",
              "      display:flex;\n",
              "      gap: 12px;\n",
              "    }\n",
              "\n",
              "    .colab-df-convert {\n",
              "      background-color: #E8F0FE;\n",
              "      border: none;\n",
              "      border-radius: 50%;\n",
              "      cursor: pointer;\n",
              "      display: none;\n",
              "      fill: #1967D2;\n",
              "      height: 32px;\n",
              "      padding: 0 0 0 0;\n",
              "      width: 32px;\n",
              "    }\n",
              "\n",
              "    .colab-df-convert:hover {\n",
              "      background-color: #E2EBFA;\n",
              "      box-shadow: 0px 1px 2px rgba(60, 64, 67, 0.3), 0px 1px 3px 1px rgba(60, 64, 67, 0.15);\n",
              "      fill: #174EA6;\n",
              "    }\n",
              "\n",
              "    .colab-df-buttons div {\n",
              "      margin-bottom: 4px;\n",
              "    }\n",
              "\n",
              "    [theme=dark] .colab-df-convert {\n",
              "      background-color: #3B4455;\n",
              "      fill: #D2E3FC;\n",
              "    }\n",
              "\n",
              "    [theme=dark] .colab-df-convert:hover {\n",
              "      background-color: #434B5C;\n",
              "      box-shadow: 0px 1px 3px 1px rgba(0, 0, 0, 0.15);\n",
              "      filter: drop-shadow(0px 1px 2px rgba(0, 0, 0, 0.3));\n",
              "      fill: #FFFFFF;\n",
              "    }\n",
              "  </style>\n",
              "\n",
              "    <script>\n",
              "      const buttonEl =\n",
              "        document.querySelector('#df-5420ed47-ebb6-4073-bfca-acec0f45b81c button.colab-df-convert');\n",
              "      buttonEl.style.display =\n",
              "        google.colab.kernel.accessAllowed ? 'block' : 'none';\n",
              "\n",
              "      async function convertToInteractive(key) {\n",
              "        const element = document.querySelector('#df-5420ed47-ebb6-4073-bfca-acec0f45b81c');\n",
              "        const dataTable =\n",
              "          await google.colab.kernel.invokeFunction('convertToInteractive',\n",
              "                                                    [key], {});\n",
              "        if (!dataTable) return;\n",
              "\n",
              "        const docLinkHtml = 'Like what you see? Visit the ' +\n",
              "          '<a target=\"_blank\" href=https://colab.research.google.com/notebooks/data_table.ipynb>data table notebook</a>'\n",
              "          + ' to learn more about interactive tables.';\n",
              "        element.innerHTML = '';\n",
              "        dataTable['output_type'] = 'display_data';\n",
              "        await google.colab.output.renderOutput(dataTable, element);\n",
              "        const docLink = document.createElement('div');\n",
              "        docLink.innerHTML = docLinkHtml;\n",
              "        element.appendChild(docLink);\n",
              "      }\n",
              "    </script>\n",
              "  </div>\n",
              "\n",
              "    </div>\n",
              "  </div>\n"
            ],
            "application/vnd.google.colaboratory.intrinsic+json": {
              "type": "dataframe",
              "summary": "{\n  \"name\": \"df[df['USER_ID'] == 3342]\",\n  \"rows\": 1,\n  \"fields\": [\n    {\n      \"column\": \"USER_ID\",\n      \"properties\": {\n        \"dtype\": \"number\",\n        \"std\": null,\n        \"min\": 3342,\n        \"max\": 3342,\n        \"num_unique_values\": 1,\n        \"samples\": [\n          3342\n        ],\n        \"semantic_type\": \"\",\n        \"description\": \"\"\n      }\n    },\n    {\n      \"column\": \"VARIANT_NAME\",\n      \"properties\": {\n        \"dtype\": \"string\",\n        \"num_unique_values\": 1,\n        \"samples\": [\n          \"control\"\n        ],\n        \"semantic_type\": \"\",\n        \"description\": \"\"\n      }\n    },\n    {\n      \"column\": \"REVENUE\",\n      \"properties\": {\n        \"dtype\": \"number\",\n        \"std\": null,\n        \"min\": 196.01,\n        \"max\": 196.01,\n        \"num_unique_values\": 1,\n        \"samples\": [\n          196.01\n        ],\n        \"semantic_type\": \"\",\n        \"description\": \"\"\n      }\n    }\n  ]\n}"
            }
          },
          "metadata": {},
          "execution_count": 15
        }
      ],
      "source": [
        "df[df['USER_ID'] == 3342]"
      ]
    },
    {
      "cell_type": "markdown",
      "id": "e694a81d",
      "metadata": {
        "papermill": {
          "duration": 0.02065,
          "end_time": "2024-06-24T20:40:20.383893",
          "exception": false,
          "start_time": "2024-06-24T20:40:20.363243",
          "status": "completed"
        },
        "tags": [],
        "id": "e694a81d"
      },
      "source": [
        "Мы видим, что есть только один выброс - в условиях ограниченной информации мы удалим эту запись и посмотрим на распределение данных еще раз."
      ]
    },
    {
      "cell_type": "code",
      "execution_count": 16,
      "id": "d96878fe",
      "metadata": {
        "execution": {
          "iopub.execute_input": "2024-06-24T20:40:20.426093Z",
          "iopub.status.busy": "2024-06-24T20:40:20.425664Z",
          "iopub.status.idle": "2024-06-24T20:40:20.432727Z",
          "shell.execute_reply": "2024-06-24T20:40:20.431706Z"
        },
        "papermill": {
          "duration": 0.031512,
          "end_time": "2024-06-24T20:40:20.435278",
          "exception": false,
          "start_time": "2024-06-24T20:40:20.403766",
          "status": "completed"
        },
        "tags": [],
        "id": "d96878fe"
      },
      "outputs": [],
      "source": [
        "df = df[df['USER_ID'] != 3342]"
      ]
    },
    {
      "cell_type": "code",
      "execution_count": 17,
      "id": "1b5f7e90",
      "metadata": {
        "execution": {
          "iopub.execute_input": "2024-06-24T20:40:20.476832Z",
          "iopub.status.busy": "2024-06-24T20:40:20.476384Z",
          "iopub.status.idle": "2024-06-24T20:40:20.778114Z",
          "shell.execute_reply": "2024-06-24T20:40:20.776711Z"
        },
        "papermill": {
          "duration": 0.325583,
          "end_time": "2024-06-24T20:40:20.780754",
          "exception": false,
          "start_time": "2024-06-24T20:40:20.455171",
          "status": "completed"
        },
        "tags": [],
        "colab": {
          "base_uri": "https://localhost:8080/",
          "height": 1000
        },
        "id": "1b5f7e90",
        "outputId": "a66a385d-6f67-4fa9-9e30-026ee2b7e75e"
      },
      "outputs": [
        {
          "output_type": "execute_result",
          "data": {
            "text/plain": [
              "<Axes: xlabel='VARIANT_NAME', ylabel='REVENUE'>"
            ]
          },
          "metadata": {},
          "execution_count": 17
        },
        {
          "output_type": "display_data",
          "data": {
            "text/plain": [
              "<Figure size 500x1200 with 2 Axes>"
            ],
            "image/png": "[encoded data removed]"
          },
          "metadata": {}
        }
      ],
      "source": [
        "f, axes = plt.subplots(2, sharex=False, figsize=(5,12))\n",
        "sns.boxplot(ax = axes[0], x = 'VARIANT_NAME', y = 'REVENUE', data = df, order = [\"control\",\"variant\"])\n",
        "sns.boxplot(ax = axes[1], x = 'VARIANT_NAME', y = 'REVENUE', data = df[df['REVENUE'] > 0], order = [\"control\",\"variant\"])"
      ]
    },
    {
      "cell_type": "markdown",
      "id": "ac244081",
      "metadata": {
        "papermill": {
          "duration": 0.019718,
          "end_time": "2024-06-24T20:40:20.820682",
          "exception": false,
          "start_time": "2024-06-24T20:40:20.800964",
          "status": "completed"
        },
        "tags": [],
        "id": "ac244081"
      },
      "source": [
        "Видим, что у большинства пользователей нет покупок. Давайте разберемся, что это за пустые покупки: либо это информация по всем пользователям, независимо от их действий (даже при отсутствии посещений и положительных покупок), либо эти записи проставляются в случае входа без покупок и могут быть и другие записи с положительным доходом."
      ]
    },
    {
      "cell_type": "code",
      "execution_count": 18,
      "id": "6f33535b",
      "metadata": {
        "execution": {
          "iopub.execute_input": "2024-06-24T20:40:20.862928Z",
          "iopub.status.busy": "2024-06-24T20:40:20.862186Z",
          "iopub.status.idle": "2024-06-24T20:40:20.873196Z",
          "shell.execute_reply": "2024-06-24T20:40:20.871964Z"
        },
        "papermill": {
          "duration": 0.034851,
          "end_time": "2024-06-24T20:40:20.875678",
          "exception": false,
          "start_time": "2024-06-24T20:40:20.840827",
          "status": "completed"
        },
        "tags": [],
        "colab": {
          "base_uri": "https://localhost:8080/"
        },
        "id": "6f33535b",
        "outputId": "063cd475-0316-446d-cd57-cfacb6e0d6e2"
      },
      "outputs": [
        {
          "output_type": "execute_result",
          "data": {
            "text/plain": [
              "52"
            ]
          },
          "metadata": {},
          "execution_count": 18
        }
      ],
      "source": [
        "# давайте посмотрим, есть ли пользователи, у которых есть записи с нулевым и положительным доходом\n",
        "(df.loc[\n",
        "    (df['REVENUE'] == 0) & (df['USER_ID'].isin(df.loc[df['REVENUE'] > 0, 'USER_ID'].values)),\n",
        "    'USER_ID'\n",
        "]).count()"
      ]
    },
    {
      "cell_type": "markdown",
      "id": "24f0cdb9",
      "metadata": {
        "papermill": {
          "duration": 0.020137,
          "end_time": "2024-06-24T20:40:20.916500",
          "exception": false,
          "start_time": "2024-06-24T20:40:20.896363",
          "status": "completed"
        },
        "tags": [],
        "id": "24f0cdb9"
      },
      "source": [
        "У одного и того же пользователя действительно могут быть записи как с нулевым, так и с положительным доходом.\n",
        "\n",
        "Давайте предположим, что записи — это посещения сервиса пользователями, а экспериментальная единица — пользователи. Затем мы группируем данные по каждому пользователю и суммируем доход для каждого, чтобы получить одну запись на пользователя"
      ]
    },
    {
      "cell_type": "code",
      "execution_count": 19,
      "id": "95558b04",
      "metadata": {
        "execution": {
          "iopub.execute_input": "2024-06-24T20:40:20.961707Z",
          "iopub.status.busy": "2024-06-24T20:40:20.960469Z",
          "iopub.status.idle": "2024-06-24T20:40:20.976851Z",
          "shell.execute_reply": "2024-06-24T20:40:20.975584Z"
        },
        "papermill": {
          "duration": 0.042815,
          "end_time": "2024-06-24T20:40:20.979824",
          "exception": false,
          "start_time": "2024-06-24T20:40:20.937009",
          "status": "completed"
        },
        "tags": [],
        "id": "95558b04"
      },
      "outputs": [],
      "source": [
        "df_old = df.copy()\n",
        "\n",
        "df = df.groupby(by=['USER_ID', 'VARIANT_NAME']).sum().reset_index()"
      ]
    },
    {
      "cell_type": "markdown",
      "id": "59b188b3",
      "metadata": {
        "papermill": {
          "duration": 0.020074,
          "end_time": "2024-06-24T20:40:21.020252",
          "exception": false,
          "start_time": "2024-06-24T20:40:21.000178",
          "status": "completed"
        },
        "tags": [],
        "id": "59b188b3"
      },
      "source": [
        "Посмотрим на распределение, которое у нас получилось и сравним с прошлым распределением"
      ]
    },
    {
      "cell_type": "code",
      "execution_count": 20,
      "id": "11500b21",
      "metadata": {
        "execution": {
          "iopub.execute_input": "2024-06-24T20:40:21.063745Z",
          "iopub.status.busy": "2024-06-24T20:40:21.063272Z",
          "iopub.status.idle": "2024-06-24T20:40:21.409770Z",
          "shell.execute_reply": "2024-06-24T20:40:21.408585Z"
        },
        "papermill": {
          "duration": 0.371363,
          "end_time": "2024-06-24T20:40:21.412471",
          "exception": false,
          "start_time": "2024-06-24T20:40:21.041108",
          "status": "completed"
        },
        "tags": [],
        "colab": {
          "base_uri": "https://localhost:8080/",
          "height": 1000
        },
        "id": "11500b21",
        "outputId": "53771fc3-ceae-4378-fa8f-7cf2758f8cac"
      },
      "outputs": [
        {
          "output_type": "execute_result",
          "data": {
            "text/plain": [
              "Text(0.5, 1.0, 'Новые данные без нулей')"
            ]
          },
          "metadata": {},
          "execution_count": 20
        },
        {
          "output_type": "display_data",
          "data": {
            "text/plain": [
              "<Figure size 1000x1200 with 4 Axes>"
            ],
            "image/png": "[encoded data removed]"
          },
          "metadata": {}
        }
      ],
      "source": [
        "f, axes = plt.subplots(2, 2, sharex=False, figsize=(10,12))\n",
        "sns.boxplot(ax = axes[0,0], x = 'VARIANT_NAME', y = 'REVENUE', data = df_old, order = [\"control\",\"variant\"])\n",
        "axes[0,0].set_title('Старые данные с нулями')\n",
        "sns.boxplot(ax = axes[1,0], x = 'VARIANT_NAME', y = 'REVENUE', data = df_old[df_old['REVENUE'] > 0], order = [\"control\",\"variant\"])\n",
        "axes[1,0].set_title('Старые данные без нулей')\n",
        "sns.boxplot(ax = axes[0,1], x = 'VARIANT_NAME', y = 'REVENUE', data = df, order = [\"control\",\"variant\"])\n",
        "axes[0,1].set_title('Новые данные с нулями')\n",
        "sns.boxplot(ax = axes[1,1], x = 'VARIANT_NAME', y = 'REVENUE', data = df[df['REVENUE'] > 0], order = [\"control\",\"variant\"])\n",
        "axes[1,1].set_title('Новые данные без нулей')"
      ]
    },
    {
      "cell_type": "markdown",
      "id": "b1b0e612",
      "metadata": {
        "papermill": {
          "duration": 0.021202,
          "end_time": "2024-06-24T20:40:21.454495",
          "exception": false,
          "start_time": "2024-06-24T20:40:21.433293",
          "status": "completed"
        },
        "tags": [],
        "id": "b1b0e612"
      },
      "source": [
        "Исходя их графиков можем сказать, что распределение и в тестовой, и в конторольной выборках практически не изменилось. Также видим, что почти все квантилив тестовой выборке ниже чем в конторольной\n",
        "\n",
        "Далее рассмотрим некоторые метрики, которые потребуются нам для A/B теста\n",
        "\n"
      ]
    },
    {
      "cell_type": "code",
      "execution_count": 21,
      "id": "90287f07",
      "metadata": {
        "execution": {
          "iopub.execute_input": "2024-06-24T20:40:21.498298Z",
          "iopub.status.busy": "2024-06-24T20:40:21.497495Z",
          "iopub.status.idle": "2024-06-24T20:40:21.528290Z",
          "shell.execute_reply": "2024-06-24T20:40:21.527091Z"
        },
        "papermill": {
          "duration": 0.055859,
          "end_time": "2024-06-24T20:40:21.531238",
          "exception": false,
          "start_time": "2024-06-24T20:40:21.475379",
          "status": "completed"
        },
        "tags": [],
        "id": "90287f07",
        "outputId": "77f3ffc1-2803-442c-bc71-d10c96b3e443",
        "colab": {
          "base_uri": "https://localhost:8080/",
          "height": 175
        }
      },
      "outputs": [
        {
          "output_type": "execute_result",
          "data": {
            "text/plain": [
              "             USER_ID REVENUE                        per_user          \n",
              "             nunique     sum      mean median count   orders   revenue\n",
              "VARIANT_NAME                                                          \n",
              "control         2389  274.55  0.114923    0.0  2389      1.0  0.114923\n",
              "variant         2393  179.32  0.074935    0.0  2393      1.0  0.074935"
            ],
            "text/html": [
              "\n",
              "  <div id=\"df-a2081e8c-d5b8-4b74-b425-339fdc05fb5a\" class=\"colab-df-container\">\n",
              "    <div>\n",
              "<style scoped>\n",
              "    .dataframe tbody tr th:only-of-type {\n",
              "        vertical-align: middle;\n",
              "    }\n",
              "\n",
              "    .dataframe tbody tr th {\n",
              "        vertical-align: top;\n",
              "    }\n",
              "\n",
              "    .dataframe thead tr th {\n",
              "        text-align: left;\n",
              "    }\n",
              "\n",
              "    .dataframe thead tr:last-of-type th {\n",
              "        text-align: right;\n",
              "    }\n",
              "</style>\n",
              "<table border=\"1\" class=\"dataframe\">\n",
              "  <thead>\n",
              "    <tr>\n",
              "      <th></th>\n",
              "      <th>USER_ID</th>\n",
              "      <th colspan=\"4\" halign=\"left\">REVENUE</th>\n",
              "      <th colspan=\"2\" halign=\"left\">per_user</th>\n",
              "    </tr>\n",
              "    <tr>\n",
              "      <th></th>\n",
              "      <th>nunique</th>\n",
              "      <th>sum</th>\n",
              "      <th>mean</th>\n",
              "      <th>median</th>\n",
              "      <th>count</th>\n",
              "      <th>orders</th>\n",
              "      <th>revenue</th>\n",
              "    </tr>\n",
              "    <tr>\n",
              "      <th>VARIANT_NAME</th>\n",
              "      <th></th>\n",
              "      <th></th>\n",
              "      <th></th>\n",
              "      <th></th>\n",
              "      <th></th>\n",
              "      <th></th>\n",
              "      <th></th>\n",
              "    </tr>\n",
              "  </thead>\n",
              "  <tbody>\n",
              "    <tr>\n",
              "      <th>control</th>\n",
              "      <td>2389</td>\n",
              "      <td>274.55</td>\n",
              "      <td>0.114923</td>\n",
              "      <td>0.0</td>\n",
              "      <td>2389</td>\n",
              "      <td>1.0</td>\n",
              "      <td>0.114923</td>\n",
              "    </tr>\n",
              "    <tr>\n",
              "      <th>variant</th>\n",
              "      <td>2393</td>\n",
              "      <td>179.32</td>\n",
              "      <td>0.074935</td>\n",
              "      <td>0.0</td>\n",
              "      <td>2393</td>\n",
              "      <td>1.0</td>\n",
              "      <td>0.074935</td>\n",
              "    </tr>\n",
              "  </tbody>\n",
              "</table>\n",
              "</div>\n",
              "    <div class=\"colab-df-buttons\">\n",
              "\n",
              "  <div class=\"colab-df-container\">\n",
              "    <button class=\"colab-df-convert\" onclick=\"convertToInteractive('df-a2081e8c-d5b8-4b74-b425-339fdc05fb5a')\"\n",
              "            title=\"Convert this dataframe to an interactive table.\"\n",
              "            style=\"display:none;\">\n",
              "\n",
              "  <svg xmlns=\"http://www.w3.org/2000/svg\" height=\"24px\" viewBox=\"0 -960 960 960\">\n",
              "    <path d=\"M120-120v-720h720v720H120Zm60-500h600v-160H180v160Zm220 220h160v-160H400v160Zm0 220h160v-160H400v160ZM180-400h160v-160H180v160Zm440 0h160v-160H620v160ZM180-180h160v-160H180v160Zm440 0h160v-160H620v160Z\"/>\n",
              "  </svg>\n",
              "    </button>\n",
              "\n",
              "  <style>\n",
              "    .colab-df-container {\n",
              "      display:flex;\n",
              "      gap: 12px;\n",
              "    }\n",
              "\n",
              "    .colab-df-convert {\n",
              "      background-color: #E8F0FE;\n",
              "      border: none;\n",
              "      border-radius: 50%;\n",
              "      cursor: pointer;\n",
              "      display: none;\n",
              "      fill: #1967D2;\n",
              "      height: 32px;\n",
              "      padding: 0 0 0 0;\n",
              "      width: 32px;\n",
              "    }\n",
              "\n",
              "    .colab-df-convert:hover {\n",
              "      background-color: #E2EBFA;\n",
              "      box-shadow: 0px 1px 2px rgba(60, 64, 67, 0.3), 0px 1px 3px 1px rgba(60, 64, 67, 0.15);\n",
              "      fill: #174EA6;\n",
              "    }\n",
              "\n",
              "    .colab-df-buttons div {\n",
              "      margin-bottom: 4px;\n",
              "    }\n",
              "\n",
              "    [theme=dark] .colab-df-convert {\n",
              "      background-color: #3B4455;\n",
              "      fill: #D2E3FC;\n",
              "    }\n",
              "\n",
              "    [theme=dark] .colab-df-convert:hover {\n",
              "      background-color: #434B5C;\n",
              "      box-shadow: 0px 1px 3px 1px rgba(0, 0, 0, 0.15);\n",
              "      filter: drop-shadow(0px 1px 2px rgba(0, 0, 0, 0.3));\n",
              "      fill: #FFFFFF;\n",
              "    }\n",
              "  </style>\n",
              "\n",
              "    <script>\n",
              "      const buttonEl =\n",
              "        document.querySelector('#df-a2081e8c-d5b8-4b74-b425-339fdc05fb5a button.colab-df-convert');\n",
              "      buttonEl.style.display =\n",
              "        google.colab.kernel.accessAllowed ? 'block' : 'none';\n",
              "\n",
              "      async function convertToInteractive(key) {\n",
              "        const element = document.querySelector('#df-a2081e8c-d5b8-4b74-b425-339fdc05fb5a');\n",
              "        const dataTable =\n",
              "          await google.colab.kernel.invokeFunction('convertToInteractive',\n",
              "                                                    [key], {});\n",
              "        if (!dataTable) return;\n",
              "\n",
              "        const docLinkHtml = 'Like what you see? Visit the ' +\n",
              "          '<a target=\"_blank\" href=https://colab.research.google.com/notebooks/data_table.ipynb>data table notebook</a>'\n",
              "          + ' to learn more about interactive tables.';\n",
              "        element.innerHTML = '';\n",
              "        dataTable['output_type'] = 'display_data';\n",
              "        await google.colab.output.renderOutput(dataTable, element);\n",
              "        const docLink = document.createElement('div');\n",
              "        docLink.innerHTML = docLinkHtml;\n",
              "        element.appendChild(docLink);\n",
              "      }\n",
              "    </script>\n",
              "  </div>\n",
              "\n",
              "\n",
              "<div id=\"df-141f090d-5f6c-4f19-ba11-1400661188ca\">\n",
              "  <button class=\"colab-df-quickchart\" onclick=\"quickchart('df-141f090d-5f6c-4f19-ba11-1400661188ca')\"\n",
              "            title=\"Suggest charts\"\n",
              "            style=\"display:none;\">\n",
              "\n",
              "<svg xmlns=\"http://www.w3.org/2000/svg\" height=\"24px\"viewBox=\"0 0 24 24\"\n",
              "     width=\"24px\">\n",
              "    <g>\n",
              "        <path d=\"M19 3H5c-1.1 0-2 .9-2 2v14c0 1.1.9 2 2 2h14c1.1 0 2-.9 2-2V5c0-1.1-.9-2-2-2zM9 17H7v-7h2v7zm4 0h-2V7h2v10zm4 0h-2v-4h2v4z\"/>\n",
              "    </g>\n",
              "</svg>\n",
              "  </button>\n",
              "\n",
              "<style>\n",
              "  .colab-df-quickchart {\n",
              "      --bg-color: #E8F0FE;\n",
              "      --fill-color: #1967D2;\n",
              "      --hover-bg-color: #E2EBFA;\n",
              "      --hover-fill-color: #174EA6;\n",
              "      --disabled-fill-color: #AAA;\n",
              "      --disabled-bg-color: #DDD;\n",
              "  }\n",
              "\n",
              "  [theme=dark] .colab-df-quickchart {\n",
              "      --bg-color: #3B4455;\n",
              "      --fill-color: #D2E3FC;\n",
              "      --hover-bg-color: #434B5C;\n",
              "      --hover-fill-color: #FFFFFF;\n",
              "      --disabled-bg-color: #3B4455;\n",
              "      --disabled-fill-color: #666;\n",
              "  }\n",
              "\n",
              "  .colab-df-quickchart {\n",
              "    background-color: var(--bg-color);\n",
              "    border: none;\n",
              "    border-radius: 50%;\n",
              "    cursor: pointer;\n",
              "    display: none;\n",
              "    fill: var(--fill-color);\n",
              "    height: 32px;\n",
              "    padding: 0;\n",
              "    width: 32px;\n",
              "  }\n",
              "\n",
              "  .colab-df-quickchart:hover {\n",
              "    background-color: var(--hover-bg-color);\n",
              "    box-shadow: 0 1px 2px rgba(60, 64, 67, 0.3), 0 1px 3px 1px rgba(60, 64, 67, 0.15);\n",
              "    fill: var(--button-hover-fill-color);\n",
              "  }\n",
              "\n",
              "  .colab-df-quickchart-complete:disabled,\n",
              "  .colab-df-quickchart-complete:disabled:hover {\n",
              "    background-color: var(--disabled-bg-color);\n",
              "    fill: var(--disabled-fill-color);\n",
              "    box-shadow: none;\n",
              "  }\n",
              "\n",
              "  .colab-df-spinner {\n",
              "    border: 2px solid var(--fill-color);\n",
              "    border-color: transparent;\n",
              "    border-bottom-color: var(--fill-color);\n",
              "    animation:\n",
              "      spin 1s steps(1) infinite;\n",
              "  }\n",
              "\n",
              "  @keyframes spin {\n",
              "    0% {\n",
              "      border-color: transparent;\n",
              "      border-bottom-color: var(--fill-color);\n",
              "      border-left-color: var(--fill-color);\n",
              "    }\n",
              "    20% {\n",
              "      border-color: transparent;\n",
              "      border-left-color: var(--fill-color);\n",
              "      border-top-color: var(--fill-color);\n",
              "    }\n",
              "    30% {\n",
              "      border-color: transparent;\n",
              "      border-left-color: var(--fill-color);\n",
              "      border-top-color: var(--fill-color);\n",
              "      border-right-color: var(--fill-color);\n",
              "    }\n",
              "    40% {\n",
              "      border-color: transparent;\n",
              "      border-right-color: var(--fill-color);\n",
              "      border-top-color: var(--fill-color);\n",
              "    }\n",
              "    60% {\n",
              "      border-color: transparent;\n",
              "      border-right-color: var(--fill-color);\n",
              "    }\n",
              "    80% {\n",
              "      border-color: transparent;\n",
              "      border-right-color: var(--fill-color);\n",
              "      border-bottom-color: var(--fill-color);\n",
              "    }\n",
              "    90% {\n",
              "      border-color: transparent;\n",
              "      border-bottom-color: var(--fill-color);\n",
              "    }\n",
              "  }\n",
              "</style>\n",
              "\n",
              "  <script>\n",
              "    async function quickchart(key) {\n",
              "      const quickchartButtonEl =\n",
              "        document.querySelector('#' + key + ' button');\n",
              "      quickchartButtonEl.disabled = true;  // To prevent multiple clicks.\n",
              "      quickchartButtonEl.classList.add('colab-df-spinner');\n",
              "      try {\n",
              "        const charts = await google.colab.kernel.invokeFunction(\n",
              "            'suggestCharts', [key], {});\n",
              "      } catch (error) {\n",
              "        console.error('Error during call to suggestCharts:', error);\n",
              "      }\n",
              "      quickchartButtonEl.classList.remove('colab-df-spinner');\n",
              "      quickchartButtonEl.classList.add('colab-df-quickchart-complete');\n",
              "    }\n",
              "    (() => {\n",
              "      let quickchartButtonEl =\n",
              "        document.querySelector('#df-141f090d-5f6c-4f19-ba11-1400661188ca button');\n",
              "      quickchartButtonEl.style.display =\n",
              "        google.colab.kernel.accessAllowed ? 'block' : 'none';\n",
              "    })();\n",
              "  </script>\n",
              "</div>\n",
              "    </div>\n",
              "  </div>\n"
            ],
            "application/vnd.google.colaboratory.intrinsic+json": {
              "type": "dataframe",
              "variable_name": "all_stat",
              "summary": "{\n  \"name\": \"all_stat\",\n  \"rows\": 2,\n  \"fields\": [\n    {\n      \"column\": [\n        \"VARIANT_NAME\",\n        \"\"\n      ],\n      \"properties\": {\n        \"dtype\": \"string\",\n        \"num_unique_values\": 2,\n        \"samples\": [\n          \"variant\",\n          \"control\"\n        ],\n        \"semantic_type\": \"\",\n        \"description\": \"\"\n      }\n    },\n    {\n      \"column\": [\n        \"USER_ID\",\n        \"nunique\"\n      ],\n      \"properties\": {\n        \"dtype\": \"number\",\n        \"std\": 2,\n        \"min\": 2389,\n        \"max\": 2393,\n        \"num_unique_values\": 2,\n        \"samples\": [\n          2393,\n          2389\n        ],\n        \"semantic_type\": \"\",\n        \"description\": \"\"\n      }\n    },\n    {\n      \"column\": [\n        \"REVENUE\",\n        \"sum\"\n      ],\n      \"properties\": {\n        \"dtype\": \"number\",\n        \"std\": 67.33777877239493,\n        \"min\": 179.32,\n        \"max\": 274.55,\n        \"num_unique_values\": 2,\n        \"samples\": [\n          179.32,\n          274.55\n        ],\n        \"semantic_type\": \"\",\n        \"description\": \"\"\n      }\n    },\n    {\n      \"column\": [\n        \"REVENUE\",\n        \"mean\"\n      ],\n      \"properties\": {\n        \"dtype\": \"number\",\n        \"std\": 0.028275315028528786,\n        \"min\": 0.07493522774759716,\n        \"max\": 0.11492256174131436,\n        \"num_unique_values\": 2,\n        \"samples\": [\n          0.07493522774759716,\n          0.11492256174131436\n        ],\n        \"semantic_type\": \"\",\n        \"description\": \"\"\n      }\n    },\n    {\n      \"column\": [\n        \"REVENUE\",\n        \"median\"\n      ],\n      \"properties\": {\n        \"dtype\": \"number\",\n        \"std\": 0.0,\n        \"min\": 0.0,\n        \"max\": 0.0,\n        \"num_unique_values\": 1,\n        \"samples\": [\n          0.0\n        ],\n        \"semantic_type\": \"\",\n        \"description\": \"\"\n      }\n    },\n    {\n      \"column\": [\n        \"REVENUE\",\n        \"count\"\n      ],\n      \"properties\": {\n        \"dtype\": \"number\",\n        \"std\": 2,\n        \"min\": 2389,\n        \"max\": 2393,\n        \"num_unique_values\": 2,\n        \"samples\": [\n          2393\n        ],\n        \"semantic_type\": \"\",\n        \"description\": \"\"\n      }\n    },\n    {\n      \"column\": [\n        \"per_user\",\n        \"orders\"\n      ],\n      \"properties\": {\n        \"dtype\": \"number\",\n        \"std\": 0.0,\n        \"min\": 1.0,\n        \"max\": 1.0,\n        \"num_unique_values\": 1,\n        \"samples\": [\n          1.0\n        ],\n        \"semantic_type\": \"\",\n        \"description\": \"\"\n      }\n    },\n    {\n      \"column\": [\n        \"per_user\",\n        \"revenue\"\n      ],\n      \"properties\": {\n        \"dtype\": \"number\",\n        \"std\": 0.028275315028528786,\n        \"min\": 0.07493522774759716,\n        \"max\": 0.11492256174131436,\n        \"num_unique_values\": 2,\n        \"samples\": [\n          0.07493522774759716\n        ],\n        \"semantic_type\": \"\",\n        \"description\": \"\"\n      }\n    }\n  ]\n}"
            }
          },
          "metadata": {},
          "execution_count": 21
        }
      ],
      "source": [
        "all_stat = df.groupby(by='VARIANT_NAME').agg({'USER_ID': 'nunique',\n",
        "                                               'REVENUE': ['sum', 'mean', 'median', 'count']})\n",
        "\n",
        "\n",
        "orders_per_user = all_stat.loc[:, ('REVENUE', 'count')] / all_stat.loc[:, ('USER_ID', 'nunique')]\n",
        "revenue_per_user = all_stat.loc[:, ('REVENUE', 'sum')] / all_stat.loc[:, ('USER_ID', 'nunique')]\n",
        "\n",
        "all_stat.loc[:, ('per_user', 'orders')] = orders_per_user\n",
        "all_stat.loc[:, ('per_user', 'revenue')] = revenue_per_user\n",
        "\n",
        "all_stat"
      ]
    },
    {
      "cell_type": "markdown",
      "id": "0e729fd7",
      "metadata": {
        "papermill": {
          "duration": 0.020975,
          "end_time": "2024-06-24T20:40:21.573113",
          "exception": false,
          "start_time": "2024-06-24T20:40:21.552138",
          "status": "completed"
        },
        "tags": [],
        "id": "0e729fd7"
      },
      "source": [
        "Мы видим, что в тестовой группе общая сумма выручки и средний чек на пользователя снизились, но количество заказов на пользователя немного выросло.\n",
        "\n",
        "Давайте также посмотрим, как ведут себя платящие пользователи"
      ]
    },
    {
      "cell_type": "code",
      "execution_count": 22,
      "id": "3e535084",
      "metadata": {
        "execution": {
          "iopub.execute_input": "2024-06-24T20:40:21.617094Z",
          "iopub.status.busy": "2024-06-24T20:40:21.616623Z",
          "iopub.status.idle": "2024-06-24T20:40:21.650315Z",
          "shell.execute_reply": "2024-06-24T20:40:21.649082Z"
        },
        "papermill": {
          "duration": 0.058475,
          "end_time": "2024-06-24T20:40:21.652673",
          "exception": false,
          "start_time": "2024-06-24T20:40:21.594198",
          "status": "completed"
        },
        "tags": [],
        "id": "3e535084",
        "outputId": "3ae98ce3-dc65-4ce6-fcfc-56a1f15ffeff",
        "colab": {
          "base_uri": "https://localhost:8080/",
          "height": 175
        }
      },
      "outputs": [
        {
          "output_type": "execute_result",
          "data": {
            "text/plain": [
              "             USER_ID REVENUE                        per_user          \n",
              "             nunique     sum      mean median count   orders   revenue\n",
              "VARIANT_NAME                                                          \n",
              "control           53  274.55  5.180189   2.99    53      1.0  5.180189\n",
              "variant           42  179.32  4.269524   2.97    42      1.0  4.269524"
            ],
            "text/html": [
              "\n",
              "  <div id=\"df-5493b391-17f2-4686-815a-98588812a556\" class=\"colab-df-container\">\n",
              "    <div>\n",
              "<style scoped>\n",
              "    .dataframe tbody tr th:only-of-type {\n",
              "        vertical-align: middle;\n",
              "    }\n",
              "\n",
              "    .dataframe tbody tr th {\n",
              "        vertical-align: top;\n",
              "    }\n",
              "\n",
              "    .dataframe thead tr th {\n",
              "        text-align: left;\n",
              "    }\n",
              "\n",
              "    .dataframe thead tr:last-of-type th {\n",
              "        text-align: right;\n",
              "    }\n",
              "</style>\n",
              "<table border=\"1\" class=\"dataframe\">\n",
              "  <thead>\n",
              "    <tr>\n",
              "      <th></th>\n",
              "      <th>USER_ID</th>\n",
              "      <th colspan=\"4\" halign=\"left\">REVENUE</th>\n",
              "      <th colspan=\"2\" halign=\"left\">per_user</th>\n",
              "    </tr>\n",
              "    <tr>\n",
              "      <th></th>\n",
              "      <th>nunique</th>\n",
              "      <th>sum</th>\n",
              "      <th>mean</th>\n",
              "      <th>median</th>\n",
              "      <th>count</th>\n",
              "      <th>orders</th>\n",
              "      <th>revenue</th>\n",
              "    </tr>\n",
              "    <tr>\n",
              "      <th>VARIANT_NAME</th>\n",
              "      <th></th>\n",
              "      <th></th>\n",
              "      <th></th>\n",
              "      <th></th>\n",
              "      <th></th>\n",
              "      <th></th>\n",
              "      <th></th>\n",
              "    </tr>\n",
              "  </thead>\n",
              "  <tbody>\n",
              "    <tr>\n",
              "      <th>control</th>\n",
              "      <td>53</td>\n",
              "      <td>274.55</td>\n",
              "      <td>5.180189</td>\n",
              "      <td>2.99</td>\n",
              "      <td>53</td>\n",
              "      <td>1.0</td>\n",
              "      <td>5.180189</td>\n",
              "    </tr>\n",
              "    <tr>\n",
              "      <th>variant</th>\n",
              "      <td>42</td>\n",
              "      <td>179.32</td>\n",
              "      <td>4.269524</td>\n",
              "      <td>2.97</td>\n",
              "      <td>42</td>\n",
              "      <td>1.0</td>\n",
              "      <td>4.269524</td>\n",
              "    </tr>\n",
              "  </tbody>\n",
              "</table>\n",
              "</div>\n",
              "    <div class=\"colab-df-buttons\">\n",
              "\n",
              "  <div class=\"colab-df-container\">\n",
              "    <button class=\"colab-df-convert\" onclick=\"convertToInteractive('df-5493b391-17f2-4686-815a-98588812a556')\"\n",
              "            title=\"Convert this dataframe to an interactive table.\"\n",
              "            style=\"display:none;\">\n",
              "\n",
              "  <svg xmlns=\"http://www.w3.org/2000/svg\" height=\"24px\" viewBox=\"0 -960 960 960\">\n",
              "    <path d=\"M120-120v-720h720v720H120Zm60-500h600v-160H180v160Zm220 220h160v-160H400v160Zm0 220h160v-160H400v160ZM180-400h160v-160H180v160Zm440 0h160v-160H620v160ZM180-180h160v-160H180v160Zm440 0h160v-160H620v160Z\"/>\n",
              "  </svg>\n",
              "    </button>\n",
              "\n",
              "  <style>\n",
              "    .colab-df-container {\n",
              "      display:flex;\n",
              "      gap: 12px;\n",
              "    }\n",
              "\n",
              "    .colab-df-convert {\n",
              "      background-color: #E8F0FE;\n",
              "      border: none;\n",
              "      border-radius: 50%;\n",
              "      cursor: pointer;\n",
              "      display: none;\n",
              "      fill: #1967D2;\n",
              "      height: 32px;\n",
              "      padding: 0 0 0 0;\n",
              "      width: 32px;\n",
              "    }\n",
              "\n",
              "    .colab-df-convert:hover {\n",
              "      background-color: #E2EBFA;\n",
              "      box-shadow: 0px 1px 2px rgba(60, 64, 67, 0.3), 0px 1px 3px 1px rgba(60, 64, 67, 0.15);\n",
              "      fill: #174EA6;\n",
              "    }\n",
              "\n",
              "    .colab-df-buttons div {\n",
              "      margin-bottom: 4px;\n",
              "    }\n",
              "\n",
              "    [theme=dark] .colab-df-convert {\n",
              "      background-color: #3B4455;\n",
              "      fill: #D2E3FC;\n",
              "    }\n",
              "\n",
              "    [theme=dark] .colab-df-convert:hover {\n",
              "      background-color: #434B5C;\n",
              "      box-shadow: 0px 1px 3px 1px rgba(0, 0, 0, 0.15);\n",
              "      filter: drop-shadow(0px 1px 2px rgba(0, 0, 0, 0.3));\n",
              "      fill: #FFFFFF;\n",
              "    }\n",
              "  </style>\n",
              "\n",
              "    <script>\n",
              "      const buttonEl =\n",
              "        document.querySelector('#df-5493b391-17f2-4686-815a-98588812a556 button.colab-df-convert');\n",
              "      buttonEl.style.display =\n",
              "        google.colab.kernel.accessAllowed ? 'block' : 'none';\n",
              "\n",
              "      async function convertToInteractive(key) {\n",
              "        const element = document.querySelector('#df-5493b391-17f2-4686-815a-98588812a556');\n",
              "        const dataTable =\n",
              "          await google.colab.kernel.invokeFunction('convertToInteractive',\n",
              "                                                    [key], {});\n",
              "        if (!dataTable) return;\n",
              "\n",
              "        const docLinkHtml = 'Like what you see? Visit the ' +\n",
              "          '<a target=\"_blank\" href=https://colab.research.google.com/notebooks/data_table.ipynb>data table notebook</a>'\n",
              "          + ' to learn more about interactive tables.';\n",
              "        element.innerHTML = '';\n",
              "        dataTable['output_type'] = 'display_data';\n",
              "        await google.colab.output.renderOutput(dataTable, element);\n",
              "        const docLink = document.createElement('div');\n",
              "        docLink.innerHTML = docLinkHtml;\n",
              "        element.appendChild(docLink);\n",
              "      }\n",
              "    </script>\n",
              "  </div>\n",
              "\n",
              "\n",
              "<div id=\"df-dc03b842-581f-4ef3-95f0-66c534889d3e\">\n",
              "  <button class=\"colab-df-quickchart\" onclick=\"quickchart('df-dc03b842-581f-4ef3-95f0-66c534889d3e')\"\n",
              "            title=\"Suggest charts\"\n",
              "            style=\"display:none;\">\n",
              "\n",
              "<svg xmlns=\"http://www.w3.org/2000/svg\" height=\"24px\"viewBox=\"0 0 24 24\"\n",
              "     width=\"24px\">\n",
              "    <g>\n",
              "        <path d=\"M19 3H5c-1.1 0-2 .9-2 2v14c0 1.1.9 2 2 2h14c1.1 0 2-.9 2-2V5c0-1.1-.9-2-2-2zM9 17H7v-7h2v7zm4 0h-2V7h2v10zm4 0h-2v-4h2v4z\"/>\n",
              "    </g>\n",
              "</svg>\n",
              "  </button>\n",
              "\n",
              "<style>\n",
              "  .colab-df-quickchart {\n",
              "      --bg-color: #E8F0FE;\n",
              "      --fill-color: #1967D2;\n",
              "      --hover-bg-color: #E2EBFA;\n",
              "      --hover-fill-color: #174EA6;\n",
              "      --disabled-fill-color: #AAA;\n",
              "      --disabled-bg-color: #DDD;\n",
              "  }\n",
              "\n",
              "  [theme=dark] .colab-df-quickchart {\n",
              "      --bg-color: #3B4455;\n",
              "      --fill-color: #D2E3FC;\n",
              "      --hover-bg-color: #434B5C;\n",
              "      --hover-fill-color: #FFFFFF;\n",
              "      --disabled-bg-color: #3B4455;\n",
              "      --disabled-fill-color: #666;\n",
              "  }\n",
              "\n",
              "  .colab-df-quickchart {\n",
              "    background-color: var(--bg-color);\n",
              "    border: none;\n",
              "    border-radius: 50%;\n",
              "    cursor: pointer;\n",
              "    display: none;\n",
              "    fill: var(--fill-color);\n",
              "    height: 32px;\n",
              "    padding: 0;\n",
              "    width: 32px;\n",
              "  }\n",
              "\n",
              "  .colab-df-quickchart:hover {\n",
              "    background-color: var(--hover-bg-color);\n",
              "    box-shadow: 0 1px 2px rgba(60, 64, 67, 0.3), 0 1px 3px 1px rgba(60, 64, 67, 0.15);\n",
              "    fill: var(--button-hover-fill-color);\n",
              "  }\n",
              "\n",
              "  .colab-df-quickchart-complete:disabled,\n",
              "  .colab-df-quickchart-complete:disabled:hover {\n",
              "    background-color: var(--disabled-bg-color);\n",
              "    fill: var(--disabled-fill-color);\n",
              "    box-shadow: none;\n",
              "  }\n",
              "\n",
              "  .colab-df-spinner {\n",
              "    border: 2px solid var(--fill-color);\n",
              "    border-color: transparent;\n",
              "    border-bottom-color: var(--fill-color);\n",
              "    animation:\n",
              "      spin 1s steps(1) infinite;\n",
              "  }\n",
              "\n",
              "  @keyframes spin {\n",
              "    0% {\n",
              "      border-color: transparent;\n",
              "      border-bottom-color: var(--fill-color);\n",
              "      border-left-color: var(--fill-color);\n",
              "    }\n",
              "    20% {\n",
              "      border-color: transparent;\n",
              "      border-left-color: var(--fill-color);\n",
              "      border-top-color: var(--fill-color);\n",
              "    }\n",
              "    30% {\n",
              "      border-color: transparent;\n",
              "      border-left-color: var(--fill-color);\n",
              "      border-top-color: var(--fill-color);\n",
              "      border-right-color: var(--fill-color);\n",
              "    }\n",
              "    40% {\n",
              "      border-color: transparent;\n",
              "      border-right-color: var(--fill-color);\n",
              "      border-top-color: var(--fill-color);\n",
              "    }\n",
              "    60% {\n",
              "      border-color: transparent;\n",
              "      border-right-color: var(--fill-color);\n",
              "    }\n",
              "    80% {\n",
              "      border-color: transparent;\n",
              "      border-right-color: var(--fill-color);\n",
              "      border-bottom-color: var(--fill-color);\n",
              "    }\n",
              "    90% {\n",
              "      border-color: transparent;\n",
              "      border-bottom-color: var(--fill-color);\n",
              "    }\n",
              "  }\n",
              "</style>\n",
              "\n",
              "  <script>\n",
              "    async function quickchart(key) {\n",
              "      const quickchartButtonEl =\n",
              "        document.querySelector('#' + key + ' button');\n",
              "      quickchartButtonEl.disabled = true;  // To prevent multiple clicks.\n",
              "      quickchartButtonEl.classList.add('colab-df-spinner');\n",
              "      try {\n",
              "        const charts = await google.colab.kernel.invokeFunction(\n",
              "            'suggestCharts', [key], {});\n",
              "      } catch (error) {\n",
              "        console.error('Error during call to suggestCharts:', error);\n",
              "      }\n",
              "      quickchartButtonEl.classList.remove('colab-df-spinner');\n",
              "      quickchartButtonEl.classList.add('colab-df-quickchart-complete');\n",
              "    }\n",
              "    (() => {\n",
              "      let quickchartButtonEl =\n",
              "        document.querySelector('#df-dc03b842-581f-4ef3-95f0-66c534889d3e button');\n",
              "      quickchartButtonEl.style.display =\n",
              "        google.colab.kernel.accessAllowed ? 'block' : 'none';\n",
              "    })();\n",
              "  </script>\n",
              "</div>\n",
              "    </div>\n",
              "  </div>\n"
            ],
            "application/vnd.google.colaboratory.intrinsic+json": {
              "type": "dataframe",
              "variable_name": "paid_stat",
              "summary": "{\n  \"name\": \"paid_stat\",\n  \"rows\": 2,\n  \"fields\": [\n    {\n      \"column\": [\n        \"VARIANT_NAME\",\n        \"\"\n      ],\n      \"properties\": {\n        \"dtype\": \"string\",\n        \"num_unique_values\": 2,\n        \"samples\": [\n          \"variant\",\n          \"control\"\n        ],\n        \"semantic_type\": \"\",\n        \"description\": \"\"\n      }\n    },\n    {\n      \"column\": [\n        \"USER_ID\",\n        \"nunique\"\n      ],\n      \"properties\": {\n        \"dtype\": \"number\",\n        \"std\": 7,\n        \"min\": 42,\n        \"max\": 53,\n        \"num_unique_values\": 2,\n        \"samples\": [\n          42,\n          53\n        ],\n        \"semantic_type\": \"\",\n        \"description\": \"\"\n      }\n    },\n    {\n      \"column\": [\n        \"REVENUE\",\n        \"sum\"\n      ],\n      \"properties\": {\n        \"dtype\": \"number\",\n        \"std\": 67.33777877239493,\n        \"min\": 179.32,\n        \"max\": 274.55,\n        \"num_unique_values\": 2,\n        \"samples\": [\n          179.32,\n          274.55\n        ],\n        \"semantic_type\": \"\",\n        \"description\": \"\"\n      }\n    },\n    {\n      \"column\": [\n        \"REVENUE\",\n        \"mean\"\n      ],\n      \"properties\": {\n        \"dtype\": \"number\",\n        \"std\": 0.6439373047684182,\n        \"min\": 4.269523809523809,\n        \"max\": 5.180188679245283,\n        \"num_unique_values\": 2,\n        \"samples\": [\n          4.269523809523809,\n          5.180188679245283\n        ],\n        \"semantic_type\": \"\",\n        \"description\": \"\"\n      }\n    },\n    {\n      \"column\": [\n        \"REVENUE\",\n        \"median\"\n      ],\n      \"properties\": {\n        \"dtype\": \"number\",\n        \"std\": 0.014142135623730963,\n        \"min\": 2.97,\n        \"max\": 2.99,\n        \"num_unique_values\": 2,\n        \"samples\": [\n          2.97,\n          2.99\n        ],\n        \"semantic_type\": \"\",\n        \"description\": \"\"\n      }\n    },\n    {\n      \"column\": [\n        \"REVENUE\",\n        \"count\"\n      ],\n      \"properties\": {\n        \"dtype\": \"number\",\n        \"std\": 7,\n        \"min\": 42,\n        \"max\": 53,\n        \"num_unique_values\": 2,\n        \"samples\": [\n          42,\n          53\n        ],\n        \"semantic_type\": \"\",\n        \"description\": \"\"\n      }\n    },\n    {\n      \"column\": [\n        \"per_user\",\n        \"orders\"\n      ],\n      \"properties\": {\n        \"dtype\": \"number\",\n        \"std\": 0.0,\n        \"min\": 1.0,\n        \"max\": 1.0,\n        \"num_unique_values\": 1,\n        \"samples\": [\n          1.0\n        ],\n        \"semantic_type\": \"\",\n        \"description\": \"\"\n      }\n    },\n    {\n      \"column\": [\n        \"per_user\",\n        \"revenue\"\n      ],\n      \"properties\": {\n        \"dtype\": \"number\",\n        \"std\": 0.6439373047684182,\n        \"min\": 4.269523809523809,\n        \"max\": 5.180188679245283,\n        \"num_unique_values\": 2,\n        \"samples\": [\n          4.269523809523809\n        ],\n        \"semantic_type\": \"\",\n        \"description\": \"\"\n      }\n    }\n  ]\n}"
            }
          },
          "metadata": {},
          "execution_count": 22
        }
      ],
      "source": [
        "paid_stat = df.loc[df.REVENUE != 0].groupby(by='VARIANT_NAME').agg({'USER_ID': 'nunique',\n",
        "                                                                     'REVENUE': ['sum', 'mean', 'median', 'count']})\n",
        "\n",
        "orders_per_user = paid_stat.loc[:, ('REVENUE', 'count')] / paid_stat.loc[:, ('USER_ID', 'nunique')]\n",
        "revenue_per_user = paid_stat.loc[:, ('REVENUE', 'sum')] / paid_stat.loc[:, ('USER_ID', 'nunique')]\n",
        "paid_stat.loc[:, ('per_user', 'orders')] = orders_per_user\n",
        "paid_stat.loc[:, ('per_user', 'revenue')] = revenue_per_user\n",
        "\n",
        "paid_stat"
      ]
    },
    {
      "cell_type": "markdown",
      "id": "6682728e",
      "metadata": {
        "papermill": {
          "duration": 0.021759,
          "end_time": "2024-06-24T20:40:21.698334",
          "exception": false,
          "start_time": "2024-06-24T20:40:21.676575",
          "status": "completed"
        },
        "tags": [],
        "id": "6682728e"
      },
      "source": [
        "Давайте посмотрим на распределение всех и только платящих пользователей."
      ]
    },
    {
      "cell_type": "code",
      "execution_count": 23,
      "id": "fbdb9609",
      "metadata": {
        "execution": {
          "iopub.execute_input": "2024-06-24T20:40:21.743624Z",
          "iopub.status.busy": "2024-06-24T20:40:21.742744Z",
          "iopub.status.idle": "2024-06-24T20:40:22.519638Z",
          "shell.execute_reply": "2024-06-24T20:40:22.518336Z"
        },
        "papermill": {
          "duration": 0.802562,
          "end_time": "2024-06-24T20:40:22.522553",
          "exception": false,
          "start_time": "2024-06-24T20:40:21.719991",
          "status": "completed"
        },
        "tags": [],
        "id": "fbdb9609",
        "outputId": "fec16ab3-349a-4224-a9cb-c3e4e2c676a9",
        "colab": {
          "base_uri": "https://localhost:8080/",
          "height": 1000
        }
      },
      "outputs": [
        {
          "output_type": "stream",
          "name": "stderr",
          "text": [
            "<ipython-input-23-4846aa293f86>:3: UserWarning: \n",
            "\n",
            "`distplot` is a deprecated function and will be removed in seaborn v0.14.0.\n",
            "\n",
            "Please adapt your code to use either `displot` (a figure-level function with\n",
            "similar flexibility) or `histplot` (an axes-level function for histograms).\n",
            "\n",
            "For a guide to updating your code to use the new functions, please see\n",
            "https://gist.github.com/mwaskom/de44147ed2974457ad6372750bbe5751\n",
            "\n",
            "  sns.distplot(df.loc[df['VARIANT_NAME'] == 'control', 'REVENUE'], ax = axes[0], label='control')\n",
            "<ipython-input-23-4846aa293f86>:4: UserWarning: \n",
            "\n",
            "`distplot` is a deprecated function and will be removed in seaborn v0.14.0.\n",
            "\n",
            "Please adapt your code to use either `displot` (a figure-level function with\n",
            "similar flexibility) or `histplot` (an axes-level function for histograms).\n",
            "\n",
            "For a guide to updating your code to use the new functions, please see\n",
            "https://gist.github.com/mwaskom/de44147ed2974457ad6372750bbe5751\n",
            "\n",
            "  sns.distplot(df.loc[df['VARIANT_NAME'] == 'variant', 'REVENUE'], ax = axes[0], label='variant')\n",
            "<ipython-input-23-4846aa293f86>:8: UserWarning: \n",
            "\n",
            "`distplot` is a deprecated function and will be removed in seaborn v0.14.0.\n",
            "\n",
            "Please adapt your code to use either `displot` (a figure-level function with\n",
            "similar flexibility) or `histplot` (an axes-level function for histograms).\n",
            "\n",
            "For a guide to updating your code to use the new functions, please see\n",
            "https://gist.github.com/mwaskom/de44147ed2974457ad6372750bbe5751\n",
            "\n",
            "  sns.distplot(df.loc[(df['VARIANT_NAME'] == 'control') & (df['REVENUE'] > 0), 'REVENUE'], ax = axes[1], label='control' )\n",
            "<ipython-input-23-4846aa293f86>:9: UserWarning: \n",
            "\n",
            "`distplot` is a deprecated function and will be removed in seaborn v0.14.0.\n",
            "\n",
            "Please adapt your code to use either `displot` (a figure-level function with\n",
            "similar flexibility) or `histplot` (an axes-level function for histograms).\n",
            "\n",
            "For a guide to updating your code to use the new functions, please see\n",
            "https://gist.github.com/mwaskom/de44147ed2974457ad6372750bbe5751\n",
            "\n",
            "  sns.distplot(df.loc[(df['VARIANT_NAME'] == 'variant') & (df['REVENUE'] > 0), 'REVENUE'], ax = axes[1], label='variant' )\n"
          ]
        },
        {
          "output_type": "display_data",
          "data": {
            "text/plain": [
              "<Figure size 1000x800 with 2 Axes>"
            ],
            "image/png": "[encoded data removed]"
          },
          "metadata": {}
        }
      ],
      "source": [
        "f, axes = plt.subplots(2, figsize=(10,8))\n",
        "# построим график распределения всех клиентов\n",
        "sns.distplot(df.loc[df['VARIANT_NAME'] == 'control', 'REVENUE'], ax = axes[0], label='control')\n",
        "sns.distplot(df.loc[df['VARIANT_NAME'] == 'variant', 'REVENUE'], ax = axes[0], label='variant')\n",
        "axes[0].set_title('Distribution of revenue of all users')\n",
        "\n",
        "# построим график распределения платящих клиентов\n",
        "sns.distplot(df.loc[(df['VARIANT_NAME'] == 'control') & (df['REVENUE'] > 0), 'REVENUE'], ax = axes[1], label='control' )\n",
        "sns.distplot(df.loc[(df['VARIANT_NAME'] == 'variant') & (df['REVENUE'] > 0), 'REVENUE'], ax = axes[1], label='variant' )\n",
        "axes[1].set_title('Paying user revenue distribution')\n",
        "plt.legend()\n",
        "plt.subplots_adjust(hspace = 0.3)"
      ]
    },
    {
      "cell_type": "markdown",
      "id": "390e5c92",
      "metadata": {
        "papermill": {
          "duration": 0.022962,
          "end_time": "2024-06-24T20:40:22.568224",
          "exception": false,
          "start_time": "2024-06-24T20:40:22.545262",
          "status": "completed"
        },
        "tags": [],
        "id": "390e5c92"
      },
      "source": [
        "### Статистический анализ <a name=\"Statistical\"/>"
      ]
    },
    {
      "cell_type": "markdown",
      "source": [
        "####**Постановка**"
      ],
      "metadata": {
        "id": "ViyqT8lfo1XN"
      },
      "id": "ViyqT8lfo1XN"
    },
    {
      "cell_type": "markdown",
      "source": [
        "Сформулируем нулевую и альтернативную гипотизы\n",
        "\n",
        "H0: среднее в контрольной выборке < среднее в тестовой выборке\n",
        "H1: среднее в контрольной выборке < среднее в тестовой выборке"
      ],
      "metadata": {
        "id": "oVnq9ZerZLm7"
      },
      "id": "oVnq9ZerZLm7"
    },
    {
      "cell_type": "markdown",
      "id": "8e5c5343",
      "metadata": {
        "papermill": {
          "duration": 0.021993,
          "end_time": "2024-06-24T20:40:22.612753",
          "exception": false,
          "start_time": "2024-06-24T20:40:22.590760",
          "status": "completed"
        },
        "tags": [],
        "id": "8e5c5343"
      },
      "source": [
        "#### Проверка на нормальность распределения"
      ]
    },
    {
      "cell_type": "markdown",
      "id": "28d7fb45",
      "metadata": {
        "papermill": {
          "duration": 0.022193,
          "end_time": "2024-06-24T20:40:22.658058",
          "exception": false,
          "start_time": "2024-06-24T20:40:22.635865",
          "status": "completed"
        },
        "tags": [],
        "id": "28d7fb45"
      },
      "source": [
        "На основе их предыдущего графика мы видим, что данные не распределены нормально, но на всякий случай мы можем подтвердить это формально, используя критерий Шапиро-Уилка."
      ]
    },
    {
      "cell_type": "code",
      "execution_count": null,
      "id": "2b9e3569",
      "metadata": {
        "execution": {
          "iopub.execute_input": "2024-06-24T20:40:22.704900Z",
          "iopub.status.busy": "2024-06-24T20:40:22.704453Z",
          "iopub.status.idle": "2024-06-24T20:40:22.714157Z",
          "shell.execute_reply": "2024-06-24T20:40:22.712986Z"
        },
        "papermill": {
          "duration": 0.036344,
          "end_time": "2024-06-24T20:40:22.716871",
          "exception": false,
          "start_time": "2024-06-24T20:40:22.680527",
          "status": "completed"
        },
        "tags": [],
        "id": "2b9e3569",
        "outputId": "e39470f7-567e-41f7-8e84-a9f704d16746"
      },
      "outputs": [
        {
          "data": {
            "text/plain": [
              "ShapiroResult(statistic=0.06145977973937988, pvalue=0.0)"
            ]
          },
          "execution_count": 21,
          "metadata": {},
          "output_type": "execute_result"
        }
      ],
      "source": [
        "shapiro(df.loc[df.VARIANT_NAME == 'variant', 'REVENUE'])"
      ]
    },
    {
      "cell_type": "markdown",
      "id": "25c55359",
      "metadata": {
        "papermill": {
          "duration": 0.023393,
          "end_time": "2024-06-24T20:40:22.763413",
          "exception": false,
          "start_time": "2024-06-24T20:40:22.740020",
          "status": "completed"
        },
        "tags": [],
        "id": "25c55359"
      },
      "source": [
        "Нулевая гипотеза о нормальном распределении данных отвергается.\n",
        "\n",
        "Также выборка не слишком большая, поэтому Z-тест и T-тест.\n",
        "Про верим гипотизы при помощи бутсрепа."
      ]
    },
    {
      "cell_type": "markdown",
      "id": "1f2edfed",
      "metadata": {
        "execution": {
          "iopub.execute_input": "2022-09-16T17:49:10.365079Z",
          "iopub.status.busy": "2022-09-16T17:49:10.363800Z",
          "iopub.status.idle": "2022-09-16T17:49:10.369587Z",
          "shell.execute_reply": "2022-09-16T17:49:10.368719Z",
          "shell.execute_reply.started": "2022-09-16T17:49:10.365037Z"
        },
        "papermill": {
          "duration": 0.022733,
          "end_time": "2024-06-24T20:40:23.186912",
          "exception": false,
          "start_time": "2024-06-24T20:40:23.164179",
          "status": "completed"
        },
        "tags": [],
        "id": "1f2edfed"
      },
      "source": [
        "#### Bootstrap"
      ]
    },
    {
      "cell_type": "markdown",
      "id": "dc9de965",
      "metadata": {
        "papermill": {
          "duration": 0.022552,
          "end_time": "2024-06-24T20:40:23.232452",
          "exception": false,
          "start_time": "2024-06-24T20:40:23.209900",
          "status": "completed"
        },
        "tags": [],
        "id": "dc9de965"
      },
      "source": [
        "Чтобы получить более полную информацию о различиях между средними значениями групп ab-теста, мы будем использовать bootstap.\n",
        "\n",
        "Давайте создадим функцию для получения выборок и получения доверительного интервала"
      ]
    },
    {
      "cell_type": "code",
      "execution_count": 27,
      "id": "6026e89a",
      "metadata": {
        "execution": {
          "iopub.execute_input": "2024-06-24T20:40:23.281899Z",
          "iopub.status.busy": "2024-06-24T20:40:23.280704Z",
          "iopub.status.idle": "2024-06-24T20:40:23.288302Z",
          "shell.execute_reply": "2024-06-24T20:40:23.287060Z"
        },
        "papermill": {
          "duration": 0.034471,
          "end_time": "2024-06-24T20:40:23.290750",
          "exception": false,
          "start_time": "2024-06-24T20:40:23.256279",
          "status": "completed"
        },
        "tags": [],
        "id": "6026e89a"
      },
      "outputs": [],
      "source": [
        "def get_bootstrap_samples(data, n_samples=1000):\n",
        "    indices = np.random.randint(0, len(data), (n_samples, len(data)))\n",
        "    samples = data[indices]\n",
        "    return samples\n",
        "\n",
        "def stat_intervals(stat, alpha=0.05):\n",
        "    boundaries = np.percentile(stat, [100 * alpha / 2., 100 * (1 - alpha / 2.)])\n",
        "    return boundaries"
      ]
    },
    {
      "cell_type": "markdown",
      "id": "3159923c",
      "metadata": {
        "papermill": {
          "duration": 0.022912,
          "end_time": "2024-06-24T20:40:23.337411",
          "exception": false,
          "start_time": "2024-06-24T20:40:23.314499",
          "status": "completed"
        },
        "tags": [],
        "id": "3159923c"
      },
      "source": [
        "Сгенерируем образцы для всех пользователей"
      ]
    },
    {
      "cell_type": "code",
      "execution_count": 28,
      "id": "f4df9190",
      "metadata": {
        "execution": {
          "iopub.execute_input": "2024-06-24T20:40:23.387301Z",
          "iopub.status.busy": "2024-06-24T20:40:23.386397Z",
          "iopub.status.idle": "2024-06-24T20:40:24.716065Z",
          "shell.execute_reply": "2024-06-24T20:40:24.714915Z"
        },
        "papermill": {
          "duration": 1.35831,
          "end_time": "2024-06-24T20:40:24.718905",
          "exception": false,
          "start_time": "2024-06-24T20:40:23.360595",
          "status": "completed"
        },
        "tags": [],
        "id": "f4df9190"
      },
      "outputs": [],
      "source": [
        "control = get_bootstrap_samples(df.loc[df.VARIANT_NAME == 'control', 'REVENUE'].values, 10000)\n",
        "variant = get_bootstrap_samples(df.loc[df.VARIANT_NAME == 'variant', 'REVENUE'].values, 10000)"
      ]
    },
    {
      "cell_type": "markdown",
      "id": "5efd5f02",
      "metadata": {
        "papermill": {
          "duration": 0.022491,
          "end_time": "2024-06-24T20:40:24.765769",
          "exception": false,
          "start_time": "2024-06-24T20:40:24.743278",
          "status": "completed"
        },
        "tags": [],
        "id": "5efd5f02"
      },
      "source": [
        "И только для платящих пользователей"
      ]
    },
    {
      "cell_type": "code",
      "execution_count": 29,
      "id": "607ac1eb",
      "metadata": {
        "execution": {
          "iopub.execute_input": "2024-06-24T20:40:24.813837Z",
          "iopub.status.busy": "2024-06-24T20:40:24.813359Z",
          "iopub.status.idle": "2024-06-24T20:40:24.845001Z",
          "shell.execute_reply": "2024-06-24T20:40:24.843747Z"
        },
        "papermill": {
          "duration": 0.059058,
          "end_time": "2024-06-24T20:40:24.847852",
          "exception": false,
          "start_time": "2024-06-24T20:40:24.788794",
          "status": "completed"
        },
        "tags": [],
        "id": "607ac1eb"
      },
      "outputs": [],
      "source": [
        "control_paid = get_bootstrap_samples(df.loc[(df.VARIANT_NAME == 'control') & (df.REVENUE > 0), 'REVENUE'].values, 10000)\n",
        "variant_paid = get_bootstrap_samples(df.loc[(df.VARIANT_NAME == 'variant') & (df.REVENUE > 0), 'REVENUE'].values, 10000)"
      ]
    },
    {
      "cell_type": "markdown",
      "id": "1fa197b0",
      "metadata": {
        "papermill": {
          "duration": 0.022806,
          "end_time": "2024-06-24T20:40:24.894484",
          "exception": false,
          "start_time": "2024-06-24T20:40:24.871678",
          "status": "completed"
        },
        "tags": [],
        "id": "1fa197b0"
      },
      "source": [
        "Посмотрим на распределение средних значений в группах ab-теста."
      ]
    },
    {
      "cell_type": "code",
      "execution_count": 30,
      "id": "50f074e3",
      "metadata": {
        "execution": {
          "iopub.execute_input": "2024-06-24T20:40:24.942943Z",
          "iopub.status.busy": "2024-06-24T20:40:24.942478Z",
          "iopub.status.idle": "2024-06-24T20:40:25.284055Z",
          "shell.execute_reply": "2024-06-24T20:40:25.282909Z"
        },
        "papermill": {
          "duration": 0.36879,
          "end_time": "2024-06-24T20:40:25.286609",
          "exception": false,
          "start_time": "2024-06-24T20:40:24.917819",
          "status": "completed"
        },
        "tags": [],
        "id": "50f074e3",
        "outputId": "a414fbb8-3d0d-4f16-c1ce-af33a910bb48",
        "colab": {
          "base_uri": "https://localhost:8080/",
          "height": 678
        }
      },
      "outputs": [
        {
          "output_type": "stream",
          "name": "stderr",
          "text": [
            "<ipython-input-30-bbd15cbe742c>:3: FutureWarning: \n",
            "\n",
            "`shade` is now deprecated in favor of `fill`; setting `fill=True`.\n",
            "This will become an error in seaborn v0.14.0; please update your code.\n",
            "\n",
            "  sns.kdeplot(np.mean(control, axis=1), shade=True, label='control')\n",
            "<ipython-input-30-bbd15cbe742c>:4: FutureWarning: \n",
            "\n",
            "`shade` is now deprecated in favor of `fill`; setting `fill=True`.\n",
            "This will become an error in seaborn v0.14.0; please update your code.\n",
            "\n",
            "  sns.kdeplot(np.mean(variant, axis=1), shade=True, label='variant')\n"
          ]
        },
        {
          "output_type": "execute_result",
          "data": {
            "text/plain": [
              "Text(0.5, 1.0, 'Распределение выборочного среднего для всех пользователей')"
            ]
          },
          "metadata": {},
          "execution_count": 30
        },
        {
          "output_type": "display_data",
          "data": {
            "text/plain": [
              "<Figure size 640x480 with 1 Axes>"
            ],
            "image/png": "[encoded data removed]"
          },
          "metadata": {}
        }
      ],
      "source": [
        "f, ax = plt.subplots()\n",
        "# plt.figure(figsize=(20,5))\n",
        "sns.kdeplot(np.mean(control, axis=1), shade=True, label='control')\n",
        "sns.kdeplot(np.mean(variant, axis=1), shade=True, label='variant')\n",
        "plt.title('Распределение выборочного среднего для всех пользователей')"
      ]
    },
    {
      "cell_type": "code",
      "execution_count": 31,
      "id": "f56c7899",
      "metadata": {
        "execution": {
          "iopub.execute_input": "2024-06-24T20:40:25.340049Z",
          "iopub.status.busy": "2024-06-24T20:40:25.339592Z",
          "iopub.status.idle": "2024-06-24T20:40:25.660834Z",
          "shell.execute_reply": "2024-06-24T20:40:25.659603Z"
        },
        "papermill": {
          "duration": 0.348929,
          "end_time": "2024-06-24T20:40:25.663623",
          "exception": false,
          "start_time": "2024-06-24T20:40:25.314694",
          "status": "completed"
        },
        "tags": [],
        "id": "f56c7899",
        "outputId": "0b9051d6-71e0-4ba9-98db-eb4fb4f8ff3b",
        "colab": {
          "base_uri": "https://localhost:8080/",
          "height": 678
        }
      },
      "outputs": [
        {
          "output_type": "stream",
          "name": "stderr",
          "text": [
            "<ipython-input-31-a42bf69da2c8>:3: FutureWarning: \n",
            "\n",
            "`shade` is now deprecated in favor of `fill`; setting `fill=True`.\n",
            "This will become an error in seaborn v0.14.0; please update your code.\n",
            "\n",
            "  sns.kdeplot(np.mean(control_paid, axis=1), shade=True, label='control')\n",
            "<ipython-input-31-a42bf69da2c8>:4: FutureWarning: \n",
            "\n",
            "`shade` is now deprecated in favor of `fill`; setting `fill=True`.\n",
            "This will become an error in seaborn v0.14.0; please update your code.\n",
            "\n",
            "  sns.kdeplot(np.mean(variant_paid, axis=1), shade=True, label='variant')\n"
          ]
        },
        {
          "output_type": "execute_result",
          "data": {
            "text/plain": [
              "Text(0.5, 1.0, 'Распределение выборочного среднего для платящих пользователей')"
            ]
          },
          "metadata": {},
          "execution_count": 31
        },
        {
          "output_type": "display_data",
          "data": {
            "text/plain": [
              "<Figure size 640x480 with 1 Axes>"
            ],
            "image/png": "[encoded data removed]"
          },
          "metadata": {}
        }
      ],
      "source": [
        "f, ax = plt.subplots()\n",
        "# plt.figure(figsize=(20,5))\n",
        "sns.kdeplot(np.mean(control_paid, axis=1), shade=True, label='control')\n",
        "sns.kdeplot(np.mean(variant_paid, axis=1), shade=True, label='variant')\n",
        "plt.title('Распределение выборочного среднего для платящих пользователей')"
      ]
    },
    {
      "cell_type": "markdown",
      "id": "8e9592f5",
      "metadata": {
        "papermill": {
          "duration": 0.023949,
          "end_time": "2024-06-24T20:40:25.711888",
          "exception": false,
          "start_time": "2024-06-24T20:40:25.687939",
          "status": "completed"
        },
        "tags": [],
        "id": "8e9592f5"
      },
      "source": [
        "Мы видим, что различия есть, но доверительные интервалы могут перекрываться, поэтому нужно посмотреть на распределение разницы средних между группами, чтобы сделать окончательные выводы.\n",
        "\n",
        "Давайте оценим разницу между группами: посмотрим на распределение разницы средних и построим для нее доверительные интервалы. Для этого создадим функцию для визуализацииn"
      ]
    },
    {
      "cell_type": "code",
      "execution_count": 47,
      "id": "06b00eb7",
      "metadata": {
        "execution": {
          "iopub.execute_input": "2024-06-24T20:40:25.763199Z",
          "iopub.status.busy": "2024-06-24T20:40:25.762757Z",
          "iopub.status.idle": "2024-06-24T20:40:25.776002Z",
          "shell.execute_reply": "2024-06-24T20:40:25.774370Z"
        },
        "papermill": {
          "duration": 0.042025,
          "end_time": "2024-06-24T20:40:25.778787",
          "exception": false,
          "start_time": "2024-06-24T20:40:25.736762",
          "status": "completed"
        },
        "tags": [],
        "id": "06b00eb7"
      },
      "outputs": [],
      "source": [
        "def plot_distribution_and_stat_intervals(variant, control, title, alpha=0.05):\n",
        "    \"\"\" Построим график распределения средней разницы и вычислите доверительные интервалы. \"\"\"\n",
        "    f, ax = plt.subplots()\n",
        "    # поличим данные для отрисовки доверительного интервала\n",
        "    points = sns.kdeplot(variant - control, shade=False).get_lines()[0].get_data()\n",
        "    x = points[0]\n",
        "    y = points[1]\n",
        "    ymin, ymax = plt.ylim()\n",
        "    # выделим нулевое значение и границы доверительного интервала\n",
        "    plt.vlines(0, 0, ymax, label='0', color='gray')\n",
        "    plt.vlines(stat_intervals(variant - control, alpha)[0], 0, ymax, linestyles=\"dashed\")\n",
        "    plt.vlines(stat_intervals(variant - control, alpha)[1], 0, ymax, linestyles=\"dashed\")\n",
        "    # покрасим зону доверительного интревала и вне его\n",
        "    plt.fill_between(x,y,\n",
        "                     where = (x >= stat_intervals(variant - control, alpha)[1]),\n",
        "                     color='gainsboro')\n",
        "    plt.fill_between(x,y,\n",
        "                     where = (x <= stat_intervals(variant - control, alpha)[0]),\n",
        "                     color='gainsboro')\n",
        "    plt.fill_between(x,y,\n",
        "                     where = ((x >= stat_intervals(variant - control, alpha)[0])\n",
        "                              & (x <= stat_intervals(variant - control, alpha)[1])),\n",
        "                     color='red',\n",
        "                     label = '95% доверительный интервал')\n",
        "    plt.title(f'Распределение разности между средними в тестовой и контрольной выборках для {title}; {100*(1-alpha)}% Доверительный интервал для разности средних: {stat_intervals(variant - control, alpha)}')\n",
        "    plt.legend(prop={'size':13})\n",
        "    return stat_intervals(variant - control)"
      ]
    },
    {
      "cell_type": "code",
      "execution_count": 49,
      "id": "57536387",
      "metadata": {
        "execution": {
          "iopub.execute_input": "2024-06-24T20:40:25.828545Z",
          "iopub.status.busy": "2024-06-24T20:40:25.828113Z",
          "iopub.status.idle": "2024-06-24T20:40:26.209348Z",
          "shell.execute_reply": "2024-06-24T20:40:26.208195Z"
        },
        "papermill": {
          "duration": 0.409209,
          "end_time": "2024-06-24T20:40:26.212015",
          "exception": false,
          "start_time": "2024-06-24T20:40:25.802806",
          "status": "completed"
        },
        "tags": [],
        "id": "57536387",
        "outputId": "5b71a48a-92d4-456a-ca73-06ec0f90488f",
        "colab": {
          "base_uri": "https://localhost:8080/",
          "height": 426
        }
      },
      "outputs": [
        {
          "output_type": "stream",
          "name": "stderr",
          "text": [
            "<ipython-input-47-e4b72e77e43b>:5: FutureWarning: \n",
            "\n",
            "`shade` is now deprecated in favor of `fill`; setting `fill=False`.\n",
            "This will become an error in seaborn v0.14.0; please update your code.\n",
            "\n",
            "  points = sns.kdeplot(variant - control, shade=False).get_lines()[0].get_data()\n"
          ]
        },
        {
          "output_type": "execute_result",
          "data": {
            "text/plain": [
              "array([-0.09884352,  0.01643135])"
            ]
          },
          "metadata": {},
          "execution_count": 49
        },
        {
          "output_type": "display_data",
          "data": {
            "text/plain": [
              "<Figure size 640x480 with 1 Axes>"
            ],
            "image/png": "[encoded data removed]"
          },
          "metadata": {}
        }
      ],
      "source": [
        "plot_distribution_and_stat_intervals(\n",
        "    np.mean(variant, axis=1),\n",
        "    np.mean(control, axis=1),\n",
        "    title='всех пользователей'\n",
        ")"
      ]
    },
    {
      "cell_type": "markdown",
      "id": "d06c6c90",
      "metadata": {
        "papermill": {
          "duration": 0.024837,
          "end_time": "2024-06-24T20:40:26.261675",
          "exception": false,
          "start_time": "2024-06-24T20:40:26.236838",
          "status": "completed"
        },
        "tags": [],
        "id": "d06c6c90"
      },
      "source": [
        "Построим график распределения разницы средних значений и получим доверительный интервал для всех пользователей"
      ]
    },
    {
      "cell_type": "code",
      "execution_count": 50,
      "id": "42811543",
      "metadata": {
        "execution": {
          "iopub.execute_input": "2024-06-24T20:40:26.314338Z",
          "iopub.status.busy": "2024-06-24T20:40:26.313919Z",
          "iopub.status.idle": "2024-06-24T20:40:26.641663Z",
          "shell.execute_reply": "2024-06-24T20:40:26.640264Z"
        },
        "papermill": {
          "duration": 0.357133,
          "end_time": "2024-06-24T20:40:26.644410",
          "exception": false,
          "start_time": "2024-06-24T20:40:26.287277",
          "status": "completed"
        },
        "tags": [],
        "id": "42811543",
        "outputId": "17bd5b8b-ecfe-4522-dc8f-d328b31ad003",
        "colab": {
          "base_uri": "https://localhost:8080/",
          "height": 417
        }
      },
      "outputs": [
        {
          "output_type": "stream",
          "name": "stderr",
          "text": [
            "<ipython-input-47-e4b72e77e43b>:5: FutureWarning: \n",
            "\n",
            "`shade` is now deprecated in favor of `fill`; setting `fill=False`.\n",
            "This will become an error in seaborn v0.14.0; please update your code.\n",
            "\n",
            "  points = sns.kdeplot(variant - control, shade=False).get_lines()[0].get_data()\n"
          ]
        },
        {
          "output_type": "execute_result",
          "data": {
            "text/plain": [
              "array([-3.08132704,  1.22402201])"
            ]
          },
          "metadata": {},
          "execution_count": 50
        },
        {
          "output_type": "display_data",
          "data": {
            "text/plain": [
              "<Figure size 640x480 with 1 Axes>"
            ],
            "image/png": "[encoded data removed]"
          },
          "metadata": {}
        }
      ],
      "source": [
        "plot_distribution_and_stat_intervals(\n",
        "    np.mean(variant_paid, axis=1),\n",
        "    np.mean(control_paid, axis=1),\n",
        "    title='платящих пользователей'\n",
        ")"
      ]
    },
    {
      "cell_type": "markdown",
      "id": "f510d265",
      "metadata": {
        "papermill": {
          "duration": 0.025119,
          "end_time": "2024-06-24T20:40:26.695104",
          "exception": false,
          "start_time": "2024-06-24T20:40:26.669985",
          "status": "completed"
        },
        "tags": [],
        "id": "f510d265"
      },
      "source": [
        "Мы видим, что нулевое значение находится в пределах доверительного интервала, поэтому мы не можем сказать о статистически значимом изменении среднего дохода между группами ab-теста."
      ]
    },
    {
      "cell_type": "markdown",
      "id": "b5797152",
      "metadata": {
        "execution": {
          "iopub.execute_input": "2022-09-16T17:56:09.202464Z",
          "iopub.status.busy": "2022-09-16T17:56:09.202013Z",
          "iopub.status.idle": "2022-09-16T17:56:09.212301Z",
          "shell.execute_reply": "2022-09-16T17:56:09.210678Z",
          "shell.execute_reply.started": "2022-09-16T17:56:09.202430Z"
        },
        "papermill": {
          "duration": 0.02485,
          "end_time": "2024-06-24T20:40:26.745035",
          "exception": false,
          "start_time": "2024-06-24T20:40:26.720185",
          "status": "completed"
        },
        "tags": [],
        "id": "b5797152"
      },
      "source": [
        "### Заключение <a name=\"Conclusions\"/>\n",
        "Для того чтобы сделать выводы об изменениях между группами ab-теста, в данные были сначала внесены следующие изменения:\n",
        "\n",
        "Пользователи с двумя группами ab-теста были исключены, чтобы сделать эффект изменений более выраженным User_id=3342 был исключен, так как в условиях ограниченной информации он является сильным выбросом в полученной выборке Пользователи взяты в качестве экспериментальной единицы, а затем данные сгруппированы по каждому пользователю и доходу и суммированы по каждому, чтобы получить одну запись на пользователя Несмотря на то, что доход в группе тестирования значительно снизился, статистически значимых изменений между группами ab-теста не произошло, как среди всех пользователей, так и среди только платящей аудитории."
      ]
    }
  ],
  "metadata": {
    "kaggle": {
      "accelerator": "none",
      "dataSources": [
        {
          "datasetId": 2479030,
          "sourceId": 4213024,
          "sourceType": "datasetVersion"
        }
      ],
      "dockerImageVersionId": 30235,
      "isGpuEnabled": false,
      "isInternetEnabled": true,
      "language": "python",
      "sourceType": "notebook"
    },
    "kernelspec": {
      "display_name": "Python 3",
      "language": "python",
      "name": "python3"
    },
    "language_info": {
      "codemirror_mode": {
        "name": "ipython",
        "version": 3
      },
      "file_extension": ".py",
      "mimetype": "text/x-python",
      "name": "python",
      "nbconvert_exporter": "python",
      "pygments_lexer": "ipython3",
      "version": "3.7.12"
    },
    "papermill": {
      "default_parameters": {},
      "duration": 19.634954,
      "end_time": "2024-06-24T20:40:27.594490",
      "environment_variables": {},
      "exception": null,
      "input_path": "__notebook__.ipynb",
      "output_path": "__notebook__.ipynb",
      "parameters": {},
      "start_time": "2024-06-24T20:40:07.959536",
      "version": "2.3.4"
    },
    "colab": {
      "provenance": []
    }
  },
  "nbformat": 4,
  "nbformat_minor": 5
}